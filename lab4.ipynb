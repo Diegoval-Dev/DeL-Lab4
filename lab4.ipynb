{
  "cells": [
    {
      "cell_type": "markdown",
      "id": "850356b3",
      "metadata": {
        "id": "850356b3"
      },
      "source": [
        "# Laboratorio 4\n",
        "\n",
        "Sean bienvenidos de nuevo al laboratorio 4 de Deep Learning y Sistemas Inteligentes. Así como en los laboratorios pasados, espero que esta ejercitación les sirva para consolidar sus conocimientos en el tema de Encoder-Decoder y AutoEnconders.\n",
        "\n",
        "Para este laboratorio estaremos usando una herramienta para Jupyter Notebooks que facilitará la calificación, no solo asegurándo que ustedes tengan una nota pronto sino también mostrandoles su nota final al terminar el laboratorio.\n",
        "\n",
        "Espero que esta vez si se muestren los *marks*. De nuevo me discupo si algo no sale bien, seguiremos mejorando conforme vayamos iterando. Siempre pido su comprensión y colaboración si algo no funciona como debería.\n",
        "\n",
        "Al igual que en el laboratorio pasado, estaremos usando la librería de Dr John Williamson et al de la University of Glasgow, además de ciertas piezas de código de Dr Bjorn Jensen de su curso de Introduction to Data Science and System de la University of Glasgow para la visualización de sus calificaciones.\n",
        "\n",
        "**NOTA:** Ahora tambien hay una tercera dependecia que se necesita instalar. Ver la celda de abajo por favor\n",
        "\n",
        "<script type=\"text/javascript\" src=\"https://cdn.mathjax.org/mathjax/latest/MathJax.js?config=TeX-AMS-MML_HTMLorMML\">\n",
        "</script>"
      ]
    },
    {
      "cell_type": "code",
      "execution_count": null,
      "id": "49183e54",
      "metadata": {
        "ExecuteTime": {
          "end_time": "2023-08-06T06:29:54.419993Z",
          "start_time": "2023-08-06T06:29:54.409473Z"
        },
        "id": "49183e54"
      },
      "outputs": [],
      "source": [
        "# Una vez instalada la librería por favor, recuerden volverla a comentar.\n",
        "%pip install -U --force-reinstall --no-cache https://github.com/johnhw/jhwutils/zipball/master\n",
        "%pip install scikit-image\n",
        "%pip install -U --force-reinstall --no-cache https://github.com/AlbertS789/lautils/zipball/master"
      ]
    },
    {
      "cell_type": "code",
      "execution_count": 56,
      "id": "33b73b28",
      "metadata": {
        "colab": {
          "base_uri": "https://localhost:8080/"
        },
        "id": "33b73b28",
        "outputId": "31aa370c-31f4-4f05-851a-e8a0148320c9"
      },
      "outputs": [
        {
          "output_type": "stream",
          "name": "stdout",
          "text": [
            "PyTorch: 2.6.0+cu124\n",
            "CUDA available: True\n",
            "GPU: Tesla T4\n"
          ]
        }
      ],
      "source": [
        "import torch\n",
        "print(\"PyTorch:\", torch.__version__)\n",
        "print(\"CUDA available:\", torch.cuda.is_available())\n",
        "if torch.cuda.is_available():\n",
        "    print(\"GPU:\", torch.cuda.get_device_name(0))"
      ]
    },
    {
      "cell_type": "code",
      "execution_count": 112,
      "id": "1c2378f6",
      "metadata": {
        "ExecuteTime": {
          "end_time": "2023-08-07T22:24:37.953793Z",
          "start_time": "2023-08-07T22:24:34.644956Z"
        },
        "id": "1c2378f6"
      },
      "outputs": [],
      "source": [
        "import numpy as np\n",
        "import copy\n",
        "import matplotlib.pyplot as plt\n",
        "import scipy\n",
        "from PIL import Image\n",
        "import os\n",
        "from collections import defaultdict\n",
        "\n",
        "#from IPython import display\n",
        "#from base64 import b64decode\n",
        "\n",
        "\n",
        "# Other imports\n",
        "from unittest.mock import patch\n",
        "from uuid import getnode as get_mac\n",
        "\n",
        "from jhwutils.checkarr import array_hash, check_hash, check_scalar, check_string, array_hash, _check_scalar\n",
        "import jhwutils.image_audio as ia\n",
        "import jhwutils.tick as tick\n",
        "from lautils.gradeutils import new_representation, hex_to_float, compare_numbers, compare_lists_by_percentage, calculate_coincidences_percentage\n",
        "\n",
        "###\n",
        "tick.reset_marks()\n",
        "\n",
        "%matplotlib inline"
      ]
    },
    {
      "cell_type": "code",
      "execution_count": 58,
      "id": "872e6c48",
      "metadata": {
        "ExecuteTime": {
          "end_time": "2023-08-06T06:29:55.567829Z",
          "start_time": "2023-08-06T06:29:55.560965Z"
        },
        "deletable": false,
        "editable": false,
        "nbgrader": {
          "cell_type": "code",
          "checksum": "29e52b805cfebe42903d0379a3f485da",
          "grade": false,
          "grade_id": "cell-95b81aaa3e57306b",
          "locked": true,
          "schema_version": 3,
          "solution": false,
          "task": false
        },
        "id": "872e6c48"
      },
      "outputs": [],
      "source": [
        "# Seeds\n",
        "seed_ = 2023\n",
        "np.random.seed(seed_)"
      ]
    },
    {
      "cell_type": "code",
      "execution_count": 59,
      "id": "d2e571e0",
      "metadata": {
        "ExecuteTime": {
          "end_time": "2023-08-06T06:29:55.581630Z",
          "start_time": "2023-08-06T06:29:55.567829Z"
        },
        "deletable": false,
        "editable": false,
        "nbgrader": {
          "cell_type": "code",
          "checksum": "3aa8961ba46ffd91e0ae666686e967e7",
          "grade": true,
          "grade_id": "cell-b2ae10e4b3198bb2",
          "locked": true,
          "points": 0,
          "schema_version": 3,
          "solution": false,
          "task": false
        },
        "id": "d2e571e0"
      },
      "outputs": [],
      "source": [
        "# Celda escondida para utlidades necesarias, por favor NO edite esta celda\n"
      ]
    },
    {
      "cell_type": "markdown",
      "id": "1a97c050",
      "metadata": {
        "deletable": false,
        "editable": false,
        "nbgrader": {
          "cell_type": "markdown",
          "checksum": "ea27899c011d00466ba84d10df3c8450",
          "grade": false,
          "grade_id": "cell-37707c73cc6055e5",
          "locked": true,
          "schema_version": 3,
          "solution": false,
          "task": false
        },
        "id": "1a97c050"
      },
      "source": [
        "###### Información del estudiante en dos variables\n",
        "\n",
        "* carne_1 : un string con su carne (e.g. \"12281\"), debe ser de al menos 5 caracteres.\n",
        "* firma_mecanografiada_1: un string con su nombre (e.g. \"Albero Suriano\") que se usará para la declaracion que este trabajo es propio (es decir, no hay plagio)\n",
        "* carne_2 : un string con su carne (e.g. \"12281\"), debe ser de al menos 5 caracteres.\n",
        "* firma_mecanografiada_2: un string con su nombre (e.g. \"Albero Suriano\") que se usará para la declaracion que este trabajo es propio (es decir, no hay plagio)"
      ]
    },
    {
      "cell_type": "code",
      "execution_count": 60,
      "id": "e766e448",
      "metadata": {
        "ExecuteTime": {
          "end_time": "2023-08-06T06:29:55.588643Z",
          "start_time": "2023-08-06T06:29:55.581630Z"
        },
        "deletable": false,
        "nbgrader": {
          "cell_type": "code",
          "checksum": "e7c7bd38d70a53f41a59434e097ebf75",
          "grade": false,
          "grade_id": "cell-887917342d3eaa54",
          "locked": false,
          "schema_version": 3,
          "solution": true,
          "task": false
        },
        "id": "e766e448"
      },
      "outputs": [],
      "source": [
        "# carne_1 =\n",
        "# firma_mecanografiada_1 =\n",
        "# carne_2 =\n",
        "# firma_mecanografiada_2 =\n",
        "# YOUR CODE HERE\n",
        "carne_1 = \"22309\"\n",
        "firma_mecanografiada_1 = \"Diego Valenzuela\"\n",
        "carne_2 = \"22281\"\n",
        "firma_mecanografiada_2 = \"Gerson Ramirez\""
      ]
    },
    {
      "cell_type": "code",
      "execution_count": 119,
      "id": "4d41a5c0",
      "metadata": {
        "ExecuteTime": {
          "end_time": "2023-08-06T06:29:55.602639Z",
          "start_time": "2023-08-06T06:29:55.588643Z"
        },
        "deletable": false,
        "editable": false,
        "nbgrader": {
          "cell_type": "code",
          "checksum": "6069d482a40ebc901473d44861baeb63",
          "grade": true,
          "grade_id": "cell-4aa33cdbf61b184d",
          "locked": true,
          "points": 0,
          "schema_version": 3,
          "solution": false,
          "task": false
        },
        "colab": {
          "base_uri": "https://localhost:8080/",
          "height": 127
        },
        "id": "4d41a5c0",
        "outputId": "571b7438-3329-4027-c5b0-5f100f3236df"
      },
      "outputs": [
        {
          "output_type": "display_data",
          "data": {
            "text/plain": [
              "<IPython.core.display.HTML object>"
            ],
            "text/html": [
              "\n",
              "        <div class=\"alert alert-box alert-success\">\n",
              "        <h1> <!--{id:\"CORRECTMARK\", marks:\"0\"}--> \n",
              "         ✓ [0 marks] \n",
              "         </h1> </div>"
            ]
          },
          "metadata": {}
        },
        {
          "output_type": "display_data",
          "data": {
            "text/plain": [
              "<IPython.core.display.HTML object>"
            ],
            "text/html": [
              "\n",
              "        <div class=\"alert alert-box alert-success\">\n",
              "        <h1> <!--{id:\"CORRECTMARK\", marks:\"0\"}--> \n",
              "         ✓ [0 marks] \n",
              "         </h1> </div>"
            ]
          },
          "metadata": {}
        }
      ],
      "source": [
        "# Deberia poder ver dos checkmarks verdes [0 marks], que indican que su información básica está OK\n",
        "\n",
        "with tick.marks(0):\n",
        "    assert(len(carne_1)>=5 and len(carne_2)>=5)\n",
        "\n",
        "with tick.marks(0):\n",
        "    assert(len(firma_mecanografiada_1)>0 and len(firma_mecanografiada_2)>0)"
      ]
    },
    {
      "cell_type": "markdown",
      "id": "96c98973",
      "metadata": {
        "deletable": false,
        "editable": false,
        "nbgrader": {
          "cell_type": "markdown",
          "checksum": "1c296a7f61dad354a3388f85563084bc",
          "grade": false,
          "grade_id": "cell-d37c69d4d3712b18",
          "locked": true,
          "schema_version": 3,
          "solution": false,
          "task": false
        },
        "id": "96c98973"
      },
      "source": [
        "## Parte 1 - Word2Vec\n",
        "\n",
        "**Créditos:** La primera parte de este laboratorio está tomado y basado en uno de los post de Musashi (Jacobs-) Harukawa\n",
        "\n",
        "La eficacia de las técnicas de embedding está directamente relacionada con los desafíos iniciales que motivaron los enfoques de texto como datos. Al convertir el lenguaje natural en representaciones numéricas, los métodos de incrustación abren oportunidades para aplicar varias herramientas cuantitativas a fuentes de datos previamente sin explotar.\n",
        "\n",
        "En términos generales, word embedding representa cada palabra en un conjunto dado de textos (corpus) como vectores en un espacio k-dimensional (donde k es elegido por el investigador; más detalles sobre esto más adelante). Estos vectores contienen información valiosa sobre las relaciones de las palabras y su contexto, sirviendo como herramientas esenciales para las tareas posteriores de modelado del lenguaje.\n",
        "\n",
        "Entonces, es entendible que se pregunten\n",
        "\n",
        "* ¿Cómo funciona este proceso de incrustación?\n",
        "* ¿Cuál es la razón subyacente de su éxito?\n",
        "* ¿Cómo podemos determinar su eficacia?\n",
        "\n",
        "Para poder responder las primeras dos preguntas, vamos a implementar este modelo usando PyTorch. Noten que el state-of-the-art ya no solo se usa Word2Vec, como BERT (Bidirectional Encoder Representations from Transformers). Pero siempre es un buen ejercicio entender estos algoritmos.\n",
        "\n",
        "### Paso 1 - DataLoader\n",
        "\n",
        "Como en laboratorios, lo primero que necesitamos es definir un DataLoader. Para esta primera parte estaremos usando el dataset llamado \"tweets_hate_speech_detection\" de HugginFace.\n",
        "\n",
        "Para esto necesitamos una función que separe los textos en listas de tokens. El preprocesamiento para cuando se trabaja con textos debe ser un poco más exhaustivo de lo que haremos en este laboratorio, pero para fines del mismo solamente haremos:\n",
        "\n",
        "1- Pasar a minusculas\n",
        "\n",
        "2- Quitar todos los simbolos diferentes de a-z@#\n",
        "\n",
        "3- Separar en espacios\n",
        "\n",
        "4- Quitar \"stopword\" y tokens vacíos\n",
        "\n",
        "5- Aplicar snowball stemmer al resto (snowball? sí, refieran a la nota de abajo para la explicación rápida)\n",
        "\n",
        "Para esto nos apoyaremos en el paquete de natural language processing toolkit o nltk para los cuates. Entonces, recuerden instalarlo por favor \"pip install nltk\"\n",
        "\n",
        "**Snowball Stemmer** es un modulo en la librería NLTK que implementa la técnica de stemming. ¿Stemming?\n",
        "Stemming es una técnica utilizada para extraer la forma base de las palabras mediante la eliminación de los (pre-post)fijos de ellos. Imaginen que cortan la ramas de un árbol hasta los tallos. Por ejemplo, la raíz de las palabras comiendo, come, comido es comer. Refieran a este [link](https://www.tutorialspoint.com/natural_language_toolkit/natural_language_toolkit_stemming_lemmatization.htm) para más información"
      ]
    },
    {
      "cell_type": "code",
      "execution_count": null,
      "id": "27b5c601",
      "metadata": {
        "ExecuteTime": {
          "end_time": "2023-08-06T06:29:58.840015Z",
          "start_time": "2023-08-06T06:29:55.602639Z"
        },
        "id": "27b5c601"
      },
      "outputs": [],
      "source": [
        "#%pip install datasets\n",
        "import torch\n",
        "import datasets\n",
        "\n",
        "dataset = datasets.load_dataset('tweets_hate_speech_detection')"
      ]
    },
    {
      "cell_type": "code",
      "execution_count": 63,
      "id": "9b66ea76",
      "metadata": {
        "ExecuteTime": {
          "end_time": "2023-08-06T06:29:59.004447Z",
          "start_time": "2023-08-06T06:29:58.840015Z"
        },
        "colab": {
          "base_uri": "https://localhost:8080/"
        },
        "id": "9b66ea76",
        "outputId": "95d555ae-5075-42b5-8d07-dacbb301915f"
      },
      "outputs": [
        {
          "output_type": "stream",
          "name": "stderr",
          "text": [
            "[nltk_data] Downloading package stopwords to /root/nltk_data...\n",
            "[nltk_data]   Package stopwords is already up-to-date!\n"
          ]
        }
      ],
      "source": [
        "# Para simplicidad quitemos characteres pero mantegamos @ y #\n",
        "#%pip install nltk\n",
        "import re\n",
        "from nltk.corpus import stopwords\n",
        "from nltk.stem.snowball import SnowballStemmer\n",
        "import nltk\n",
        "nltk.download('stopwords')\n",
        "\n",
        "ss = SnowballStemmer('english')\n",
        "sw = stopwords.words('english')\n",
        "\n",
        "#def split_tokens(row):                             # PASO\n",
        "#    row['all_tokens'] = [ss.stem(i) for i in       # 5\n",
        "#                     re.split(r\" +\",               # 3\n",
        "#                     re.sub(r\"[^a-z@# ]\", \"\",      # 2\n",
        "#                            row['tweet'].lower())) # 1\n",
        "#                     if (i not in sw) and len(i)]  # 4\n",
        "#    return row\n",
        "\n",
        "def split_tokens(row):\n",
        "    # 1- Pasar a minusculas\n",
        "    tweet_lower = row['tweet'].lower()\n",
        "\n",
        "    # 2- Quitar todos los simbolos diferentes de a-z@#\n",
        "    tweet_cleaned = re.sub(r\"[^a-z@# ]\", \"\", tweet_lower)\n",
        "\n",
        "    # 3- Separar en espacios\n",
        "    tweet_tokens = re.split(r\" +\", tweet_cleaned)\n",
        "\n",
        "    # 4- Quitar \"stopword\" y tokens vacíos\n",
        "    # 5- Aplicar snowball stemmer al resto\n",
        "    filtered_tokens = [ss.stem(i) for i in tweet_tokens if (i not in sw) and len(i)]\n",
        "\n",
        "\n",
        "    row['all_tokens'] = filtered_tokens\n",
        "\n",
        "    return row"
      ]
    },
    {
      "cell_type": "code",
      "execution_count": 64,
      "id": "186eecad",
      "metadata": {
        "ExecuteTime": {
          "end_time": "2023-08-06T06:29:59.025478Z",
          "start_time": "2023-08-06T06:29:59.004447Z"
        },
        "id": "186eecad"
      },
      "outputs": [],
      "source": [
        "# Determinamos el vocabulario\n",
        "dataset = dataset.map(split_tokens)"
      ]
    },
    {
      "cell_type": "markdown",
      "id": "686a92c6",
      "metadata": {
        "ExecuteTime": {
          "end_time": "2023-08-06T01:41:00.383114Z",
          "start_time": "2023-08-06T01:41:00.367813Z"
        },
        "id": "686a92c6"
      },
      "source": [
        "Ahora podemos crear algunas variables que nos serán útiles en futuros pasos. Además, debemos quitar los tokens que ocurren menos de 10 veces para reducir el tamaño del vocabulario"
      ]
    },
    {
      "cell_type": "code",
      "execution_count": 65,
      "id": "c0837b22",
      "metadata": {
        "ExecuteTime": {
          "end_time": "2023-08-06T06:29:59.486408Z",
          "start_time": "2023-08-06T06:29:59.025478Z"
        },
        "deletable": false,
        "nbgrader": {
          "cell_type": "code",
          "checksum": "0d1e8d5c6985acc13aa5f87a951182e5",
          "grade": false,
          "grade_id": "cell-0305720eb97e48ae",
          "locked": false,
          "schema_version": 3,
          "solution": true,
          "task": false
        },
        "colab": {
          "base_uri": "https://localhost:8080/",
          "height": 81,
          "referenced_widgets": [
            "faf3c94db7c749ba9b8daca18abe9843",
            "f19d3e09fc5d417d8f1d7c26892d4d3d",
            "b476bcd3ec594668a1e5350f4cdf4c1f",
            "3ddd7fcb582f4bfdbbfee7ff249cb240",
            "134fa017b1d14f20959510cf3041d752",
            "5b202a166734442b983cbee9869eb8ff",
            "2f9460f5c061489d80d1b305589fffe3",
            "c0091669a7ed42b89b3a8884f3d94ec3",
            "8c53f7db164b46e3a14961bc981c358d",
            "b0c524c147a046119c1c436e084645ec",
            "59bba92ed86f46ea9869f45b59a4534b",
            "b95b65a6c9754318bea5fb19e247c0b9",
            "688a395404984fa19e8fca1a216e9a5e",
            "4a7a5de1f4da44cb8723a8a161cba964",
            "419c5536cebd4fa891ce8e3a146625b8",
            "265da9a5a45542528292d435db942687",
            "2a0fbf10e80349b7b394833f360156bd",
            "c994e2299b184be08b45c1ee39201339",
            "cbbd80df006040969455948f25f7d167",
            "c8e90c159b704ea680c173a98a772bbf",
            "b8b64c63bb1e4546823d3803579bb2f9",
            "1792c3f5d45c422ab6e663fd055e5c8b"
          ]
        },
        "id": "c0837b22",
        "outputId": "3087722a-aeb9-4c7a-f244-d07b9a2cc788"
      },
      "outputs": [
        {
          "output_type": "display_data",
          "data": {
            "text/plain": [
              "Map:   0%|          | 0/31962 [00:00<?, ? examples/s]"
            ],
            "application/vnd.jupyter.widget-view+json": {
              "version_major": 2,
              "version_minor": 0,
              "model_id": "faf3c94db7c749ba9b8daca18abe9843"
            }
          },
          "metadata": {}
        },
        {
          "output_type": "display_data",
          "data": {
            "text/plain": [
              "Map:   0%|          | 0/17197 [00:00<?, ? examples/s]"
            ],
            "application/vnd.jupyter.widget-view+json": {
              "version_major": 2,
              "version_minor": 0,
              "model_id": "b95b65a6c9754318bea5fb19e247c0b9"
            }
          },
          "metadata": {}
        }
      ],
      "source": [
        "from collections import Counter\n",
        "\n",
        "# Total de palabras\n",
        "\n",
        "counts = Counter([i for s in dataset['train']['all_tokens'] for i in s])\n",
        "counts = {k:v for k, v in counts.items() if v>10} # Filtering\n",
        "\n",
        "# Aprox 1 linea para obtener los tokens unicos\n",
        "# vocab =\n",
        "# Hint: Use list de python\n",
        "# Hint2: Use la variable counts\n",
        "# YOUR CODE HERE\n",
        "vocab = list(counts.keys())\n",
        "\n",
        "# Aprox 1 linea para determinar el tamaño del vocabulario\n",
        "# YOUR CODE HERE\n",
        "n_v = len(vocab)\n",
        "\n",
        "# Aprox 2 lineas para definir\n",
        "#     los diccionarios para ir de un token a un id numérico y viceversa\n",
        "# id2tok =\n",
        "# tok2id =\n",
        "# Hint: Puede que dict y enumerate le sirva para una definición\n",
        "# YOUR CODE HERE\n",
        "id2tok = dict(enumerate(vocab))\n",
        "tok2id = {tok: idx for idx, tok in id2tok.items()}\n",
        "\n",
        "# Funcion para quitar tokens \"raros\"\n",
        "def remove_rare_tokens(row):\n",
        "    row['tokens'] = [t for t in row['all_tokens'] if t in vocab]\n",
        "    return row\n",
        "\n",
        "dataset = dataset.map(remove_rare_tokens)"
      ]
    },
    {
      "cell_type": "code",
      "execution_count": 66,
      "id": "f1d8a6c3",
      "metadata": {
        "ExecuteTime": {
          "end_time": "2023-08-06T06:29:59.501418Z",
          "start_time": "2023-08-06T06:29:59.487438Z"
        },
        "colab": {
          "base_uri": "https://localhost:8080/"
        },
        "id": "f1d8a6c3",
        "outputId": "20a29db6-f54a-4134-c707-ee3f37154d39"
      },
      "outputs": [
        {
          "output_type": "execute_result",
          "data": {
            "text/plain": [
              "DatasetDict({\n",
              "    train: Dataset({\n",
              "        features: ['label', 'tweet', 'all_tokens', 'tokens'],\n",
              "        num_rows: 31962\n",
              "    })\n",
              "    test: Dataset({\n",
              "        features: ['label', 'tweet', 'all_tokens', 'tokens'],\n",
              "        num_rows: 17197\n",
              "    })\n",
              "})"
            ]
          },
          "metadata": {},
          "execution_count": 66
        }
      ],
      "source": [
        "dataset"
      ]
    },
    {
      "cell_type": "code",
      "execution_count": 118,
      "id": "d7c79775",
      "metadata": {
        "ExecuteTime": {
          "end_time": "2023-08-06T06:29:59.517184Z",
          "start_time": "2023-08-06T06:29:59.502434Z"
        },
        "deletable": false,
        "editable": false,
        "nbgrader": {
          "cell_type": "code",
          "checksum": "d4cf221bfa47a4f32352470e32c09b04",
          "grade": true,
          "grade_id": "cell-801ad99c67585892",
          "locked": true,
          "points": 18,
          "schema_version": 3,
          "solution": false,
          "task": false
        },
        "colab": {
          "base_uri": "https://localhost:8080/",
          "height": 338
        },
        "id": "d7c79775",
        "outputId": "c6708525-4219-439b-a7b8-300c17a1a4a1"
      },
      "outputs": [
        {
          "output_type": "display_data",
          "data": {
            "text/plain": [
              "<IPython.core.display.HTML object>"
            ],
            "text/html": [
              "\n",
              "        <div class=\"alert alert-box alert-success\">\n",
              "        <h1> <!--{id:\"CORRECTMARK\", marks:\"3\"}--> \n",
              "         ✓ [3 marks] \n",
              "         </h1> </div>"
            ]
          },
          "metadata": {}
        },
        {
          "output_type": "display_data",
          "data": {
            "text/plain": [
              "<IPython.core.display.HTML object>"
            ],
            "text/html": [
              "\n",
              "        <div class=\"alert alert-box alert-success\">\n",
              "        <h1> <!--{id:\"CORRECTMARK\", marks:\"3\"}--> \n",
              "         ✓ [3 marks] \n",
              "         </h1> </div>"
            ]
          },
          "metadata": {}
        },
        {
          "output_type": "display_data",
          "data": {
            "text/plain": [
              "<IPython.core.display.HTML object>"
            ],
            "text/html": [
              "\n",
              "        <div class=\"alert alert-box alert-success\">\n",
              "        <h1> <!--{id:\"CORRECTMARK\", marks:\"3\"}--> \n",
              "         ✓ [3 marks] \n",
              "         </h1> </div>"
            ]
          },
          "metadata": {}
        },
        {
          "output_type": "display_data",
          "data": {
            "text/plain": [
              "<IPython.core.display.HTML object>"
            ],
            "text/html": [
              "\n",
              "        <div class=\"alert alert-box alert-success\">\n",
              "        <h1> <!--{id:\"CORRECTMARK\", marks:\"3\"}--> \n",
              "         ✓ [3 marks] \n",
              "         </h1> </div>"
            ]
          },
          "metadata": {}
        },
        {
          "output_type": "display_data",
          "data": {
            "text/plain": [
              "<IPython.core.display.HTML object>"
            ],
            "text/html": [
              "\n",
              "        <div class=\"alert alert-box alert-success\">\n",
              "        <h1> <!--{id:\"CORRECTMARK\", marks:\"3\"}--> \n",
              "         ✓ [3 marks] \n",
              "         </h1> </div>"
            ]
          },
          "metadata": {}
        },
        {
          "output_type": "display_data",
          "data": {
            "text/plain": [
              "<IPython.core.display.HTML object>"
            ],
            "text/html": [
              "\n",
              "        <div class=\"alert alert-box alert-success\">\n",
              "        <h1> <!--{id:\"CORRECTMARK\", marks:\"3\"}--> \n",
              "         ✓ [3 marks] \n",
              "         </h1> </div>"
            ]
          },
          "metadata": {}
        }
      ],
      "source": [
        "with tick.marks(3):\n",
        "    assert(check_scalar(len(counts), '0xf4f4eb83'))\n",
        "\n",
        "with tick.marks(3):\n",
        "    assert(check_scalar(len(id2tok), '0xf4f4eb83'))\n",
        "\n",
        "with tick.marks(3):\n",
        "    assert(check_scalar(len(vocab), '0xf4f4eb83'))\n",
        "\n",
        "with tick.marks(3):\n",
        "    assert(check_scalar(n_v, '0xf4f4eb83'))\n",
        "\n",
        "with tick.marks(3):\n",
        "    assert(check_scalar(tok2id['father'], '0xb44c37ea'))\n",
        "\n",
        "with tick.marks(3):\n",
        "    assert(check_string(id2tok[1], '0xcf2531b8'))"
      ]
    },
    {
      "cell_type": "markdown",
      "id": "67f310c6",
      "metadata": {
        "id": "67f310c6"
      },
      "source": [
        "Ahora, recordemos que Word2Vec ayuda a representar una palabra por su contexto, para ello necesitamos definir una ventana movil (sliding window) que se usa dentro del algoritmo. Esta consiste en tomar cada palabra de una frase, y luego se parea con las N palabras más cercanas (hacia la derecha e izquierda). Por ejemplo, consideremos una frase como \"every good dog does fine\", con una ventana de 2. El resultado sería algo como:\n",
        "\n",
        "`(every, good)`\n",
        "`(every, dog)`\n",
        "`(good, every)`\n",
        "`(good, dog)`\n",
        "`(good, does)`\n",
        "`(dog, every)`\n",
        "`(dog, good)`\n",
        "`...`\n",
        "\n",
        "Y así consecutivamente. La frase u oración, es convertida en un par `target, context` donde el contex es una lista de tokens dentro de la ventana.\n",
        "\n",
        "Luego, definiremos el DataSet usando las clases correspondiente como lo hemos hecho antes."
      ]
    },
    {
      "cell_type": "code",
      "execution_count": 68,
      "id": "6dc3dfec",
      "metadata": {
        "ExecuteTime": {
          "end_time": "2023-08-06T06:29:59.580001Z",
          "start_time": "2023-08-06T06:29:59.520187Z"
        },
        "deletable": false,
        "nbgrader": {
          "cell_type": "code",
          "checksum": "f3be587ebad6002016b9a1210d7dfb2d",
          "grade": false,
          "grade_id": "cell-7d04d85a04e5fc7a",
          "locked": false,
          "schema_version": 3,
          "solution": true,
          "task": false
        },
        "colab": {
          "base_uri": "https://localhost:8080/",
          "height": 81,
          "referenced_widgets": [
            "4ab32e7e6cfc475dad1e76748e35491a",
            "466f8aad55c547b4ad9305bcef19418e",
            "fd2b8bb8e90a4bc0b813f82cdfb56f80",
            "cf879d8e096246db990bf87d97b500ea",
            "8e38ef60829c480a992e42ca7ea50438",
            "7c158e874191473191680800095009cf",
            "764d8e5cf4444090be65f3bbe4e61083",
            "2bf7683eb7d34dfd9abbb03688b736b8",
            "70151c52e7a348a49acf331b332a19fb",
            "861561d2b17f45f6b0d80779648a7011",
            "02a73271d1f14cc1b1708d9f8113c483",
            "574162ebe1b441ad9809358d4b33f8d4",
            "bcf002a651a94e9a8a922246de904bda",
            "3ea0a56a1d2e48afb68804c6de945e81",
            "920a32c0089347e9a94f9f801ff3bba9",
            "aa766e2cf2de49c6bd676b3100149106",
            "1cab733b419b4560ad07ff2eccfec4ec",
            "5a4374e028d14f0688afa7ccbd8ed1e4",
            "6c0f2a3277974e4bb90525f3dc68d266",
            "bb927036ca694792ac6bdcd5923dbf3a",
            "135a4f63768f4079bef2e456d0a9ef64",
            "d1bd5b37b85c4b1bbd4e0c9d61c8c6c0"
          ]
        },
        "id": "6dc3dfec",
        "outputId": "5aeb1c12-5f40-4cd7-ba7e-d284a523f51e"
      },
      "outputs": [
        {
          "output_type": "display_data",
          "data": {
            "text/plain": [
              "Map:   0%|          | 0/31962 [00:00<?, ? examples/s]"
            ],
            "application/vnd.jupyter.widget-view+json": {
              "version_major": 2,
              "version_minor": 0,
              "model_id": "4ab32e7e6cfc475dad1e76748e35491a"
            }
          },
          "metadata": {}
        },
        {
          "output_type": "display_data",
          "data": {
            "text/plain": [
              "Map:   0%|          | 0/17197 [00:00<?, ? examples/s]"
            ],
            "application/vnd.jupyter.widget-view+json": {
              "version_major": 2,
              "version_minor": 0,
              "model_id": "574162ebe1b441ad9809358d4b33f8d4"
            }
          },
          "metadata": {}
        }
      ],
      "source": [
        "#def windowizer(row, wsize=3):\n",
        "#    \"\"\"\n",
        "#    Windowizer function for Word2Vec. Converts sentence to sliding-window\n",
        "#    pairs.\n",
        "#    \"\"\"\n",
        "#    doc = row['tokens']\n",
        "#    #wsize = 3\n",
        "#    out = []\n",
        "#    for i, word in enumerate(doc):\n",
        "#        target = tok2id[word]\n",
        "#        window = [i+j for j in\n",
        "#                  range(-wsize, wsize+1, 1)\n",
        "#                  if (i+j>=0) &\n",
        "#                     (i+j<len(doc)) &\n",
        "#                     (j!=0)]\n",
        "#\n",
        "#        out += [(target, tok2id[doc[w]]) for w in window]\n",
        "#    row['moving_window'] = out\n",
        "#    return row\n",
        "\n",
        "\n",
        "def windowizer(row, wsize=3):\n",
        "    \"\"\"\n",
        "    Windowizer function for Word2Vec. Converts sentence to sliding-window\n",
        "    pairs.\n",
        "    \"\"\"\n",
        "    doc = row['tokens']\n",
        "    out = []\n",
        "\n",
        "    for i, word in enumerate(doc):\n",
        "        target = tok2id[word]\n",
        "\n",
        "        # 1 - Definimos el rango de la ventana movil\n",
        "        window = [i + j for j in range(-wsize, wsize + 1, 1) if (i + j >= 0) & (i + j < len(doc)) & (j != 0)]\n",
        "\n",
        "        # 2 - Creamos pares de la ventana movil\n",
        "        # Aprox 1 linea\n",
        "        # window_pairs =\n",
        "        # YOUR CODE HERE\n",
        "        window_pairs = [(target, tok2id[doc[w]]) for w in window]\n",
        "\n",
        "        # 3 - Agregamos los pares a la lista de salida\n",
        "        # Aprox 1 linea\n",
        "        # out +=\n",
        "        # YOUR CODE HERE\n",
        "        out += window_pairs\n",
        "\n",
        "    # 4 - Asingamos el \"movin_window\" a la fila\n",
        "    row['moving_window'] = out\n",
        "\n",
        "    return row\n",
        "\n",
        "dataset = dataset.map(windowizer)"
      ]
    },
    {
      "cell_type": "code",
      "execution_count": 117,
      "id": "dc357ed4",
      "metadata": {
        "ExecuteTime": {
          "end_time": "2023-08-06T06:30:02.539396Z",
          "start_time": "2023-08-06T06:30:02.518455Z"
        },
        "deletable": false,
        "editable": false,
        "nbgrader": {
          "cell_type": "code",
          "checksum": "726e16c824a2e5b29968e3f1bbab59bf",
          "grade": true,
          "grade_id": "cell-66be60a252d35f9d",
          "locked": true,
          "points": 5,
          "schema_version": 3,
          "solution": false,
          "task": false
        },
        "colab": {
          "base_uri": "https://localhost:8080/",
          "height": 74
        },
        "id": "dc357ed4",
        "outputId": "d423b0e2-c6af-4934-9e11-4367f3f55e2e"
      },
      "outputs": [
        {
          "output_type": "display_data",
          "data": {
            "text/plain": [
              "<IPython.core.display.HTML object>"
            ],
            "text/html": [
              "\n",
              "        <div class=\"alert alert-box alert-success\">\n",
              "        <h1> <!--{id:\"CORRECTMARK\", marks:\"5\"}--> \n",
              "         ✓ [5 marks] \n",
              "         </h1> </div>"
            ]
          },
          "metadata": {}
        }
      ],
      "source": [
        "with tick.marks(5):\n",
        "    assert(check_scalar(dataset[\"train\"].num_rows, '0xcd61d16b'))"
      ]
    },
    {
      "cell_type": "code",
      "execution_count": 70,
      "id": "de5447bf",
      "metadata": {
        "ExecuteTime": {
          "end_time": "2023-08-06T06:30:02.555506Z",
          "start_time": "2023-08-06T06:30:02.539396Z"
        },
        "deletable": false,
        "editable": false,
        "nbgrader": {
          "cell_type": "code",
          "checksum": "8c728e41718e96a23aa6a0f9ce216263",
          "grade": false,
          "grade_id": "cell-1d4097cccc4ceee4",
          "locked": true,
          "schema_version": 3,
          "solution": false,
          "task": false
        },
        "id": "de5447bf"
      },
      "outputs": [],
      "source": [
        "#from torch.utils.data import Dataset, DataLoader\n",
        "import torch\n",
        "from torch.utils.data import TensorDataset, Dataset, DataLoader\n",
        "\n",
        "\n",
        "class Word2VecDataset(Dataset):\n",
        "    def __init__(self, dataset, vocab_size, wsize=3):\n",
        "        self.dataset = dataset\n",
        "        self.vocab_size = vocab_size\n",
        "        self.data = [i for s in dataset['moving_window'] for i in s]\n",
        "\n",
        "    def __len__(self):\n",
        "        return len(self.data)\n",
        "\n",
        "    def __getitem__(self, idx):\n",
        "        return self.data[idx][0], self.data[idx][1]\n"
      ]
    },
    {
      "cell_type": "markdown",
      "id": "f6e73cd3",
      "metadata": {
        "deletable": false,
        "editable": false,
        "nbgrader": {
          "cell_type": "markdown",
          "checksum": "9fa751aadaad5be9ec05ab3c4f6e31a4",
          "grade": false,
          "grade_id": "cell-249f95b6dcc39bde",
          "locked": true,
          "schema_version": 3,
          "solution": false,
          "task": false
        },
        "id": "f6e73cd3"
      },
      "source": [
        "Ahora definiremos dos variables globales, el `BATCH_SIZE` y `N_LOADER_PROCS`.\n",
        "\n",
        "`BATCH_SIZE` es el número de observaciones devueltas con cada llamada. Gran parte de las aceleraciones del procesamiento de GPU provienen de cálculos de matriz por batches masivos. Al elegir el tamaño del batch, recuerden que generalmente se trata de un trade-off entre el uso de VRAM y la velocidad, excepto cuando el Data Loader en sí es el cuello de botella. Para acelerar el DataLoader, podemos pasar un argumento a num_workers para habilitar la paralelización en la preparación y carga de datos."
      ]
    },
    {
      "cell_type": "code",
      "execution_count": 71,
      "id": "2f74f352",
      "metadata": {
        "ExecuteTime": {
          "end_time": "2023-08-06T06:30:05.406175Z",
          "start_time": "2023-08-06T06:30:02.556990Z"
        },
        "deletable": false,
        "editable": false,
        "nbgrader": {
          "cell_type": "code",
          "checksum": "de6b1867f45bd4673c2fe7c464049ae0",
          "grade": false,
          "grade_id": "cell-12cd6ba3b1e9f944",
          "locked": true,
          "schema_version": 3,
          "solution": false,
          "task": false
        },
        "colab": {
          "base_uri": "https://localhost:8080/"
        },
        "id": "2f74f352",
        "outputId": "76ab055a-b9cc-49ba-a5d6-c31025eab815"
      },
      "outputs": [
        {
          "output_type": "stream",
          "name": "stderr",
          "text": [
            "/usr/local/lib/python3.11/dist-packages/torch/utils/data/dataloader.py:624: UserWarning: This DataLoader will create 5 worker processes in total. Our suggested max number of worker in current system is 2, which is smaller than what this DataLoader is going to create. Please be aware that excessive worker creation might get DataLoader running slow or even freeze, lower the worker number to avoid potential slowness/freeze if necessary.\n",
            "  warnings.warn(\n"
          ]
        }
      ],
      "source": [
        "\n",
        "# Create an instance of the Word2VecDataset\n",
        "word2vec_dataset_ = Word2VecDataset(dataset['train'], vocab_size=n_v)\n",
        "\n",
        "# Convert the Word2VecDataset into a TensorDataset\n",
        "word2vec_dataset = TensorDataset(torch.tensor(word2vec_dataset_.data, dtype=torch.long))\n",
        "\n",
        "BATCH_SIZE = 2**16\n",
        "N_LOADER_PROCS = 5\n",
        "\n",
        "dataloader_train = DataLoader(word2vec_dataset, batch_size=BATCH_SIZE, shuffle=True, num_workers=N_LOADER_PROCS)"
      ]
    },
    {
      "cell_type": "markdown",
      "id": "c53220df",
      "metadata": {
        "id": "c53220df"
      },
      "source": [
        "### Paso 2 - Construyendo la Red\n",
        "La arquitectura que usaremos para esta ocasión será la dada por una versión de Word2Vec, esta consiste en:\n",
        "* Tres capas: Input, hidden y output\n",
        "* Tanto el tamaño de la input como la output son del tamaño del vocabulario. Pero la hidden es un poco más pequeña\n",
        "* Todas son Fully Connected con Funciones de Activación Lineales\n",
        "\n",
        "Como mencionamos en clase hay dos variantes\n",
        "* CBOW (Continuous Bag of Words): El enfoque está dado en las palabras de contexto para dar énfasis a la palabra central. O en otras palabras, las palabras de contexto son el input y la palabra central son el output (Espero que esto haga más sentido de la explicación en clase)\n",
        "* Skip-gram: La palabra central es el input, y las de contexto son la salida.\n",
        "\n",
        "Definamos CBOW para este laboratorio...\n",
        "\n",
        "Pero antes, debemos encodear nuestras palabras (otra vez como lo hicimos en el laboratorio pasado), esta implementación es similar a la que hicimos anteriormente, pero observen el uso de tensores."
      ]
    },
    {
      "cell_type": "code",
      "execution_count": 72,
      "id": "b7927273",
      "metadata": {
        "ExecuteTime": {
          "end_time": "2023-08-06T06:30:05.419716Z",
          "start_time": "2023-08-06T06:30:05.412780Z"
        },
        "deletable": false,
        "nbgrader": {
          "cell_type": "code",
          "checksum": "79bcbc0e794ad778277522e74da6198f",
          "grade": false,
          "grade_id": "cell-719345b22d8a6412",
          "locked": false,
          "schema_version": 3,
          "solution": true,
          "task": false
        },
        "id": "b7927273"
      },
      "outputs": [],
      "source": [
        "from torch import nn\n",
        "\n",
        "size = 20\n",
        "input_ = 7\n",
        "\n",
        "def one_hot_encode(input_, size):\n",
        "    vec = torch.zeros(size).float()\n",
        "    # Aprox 1 linea para\n",
        "    # vec[input_] =\n",
        "    # YOUR CODE HERE\n",
        "    vec[input_] = 1.0\n",
        "    return vec\n",
        "\n",
        "ohe = one_hot_encode(input_, size)\n",
        "linear_layer = nn.Linear(size, 1, bias=False)"
      ]
    },
    {
      "cell_type": "code",
      "execution_count": 116,
      "id": "afda896e",
      "metadata": {
        "ExecuteTime": {
          "end_time": "2023-08-06T06:30:05.426787Z",
          "start_time": "2023-08-06T06:30:05.419716Z"
        },
        "deletable": false,
        "editable": false,
        "nbgrader": {
          "cell_type": "code",
          "checksum": "b9076aa87b82f56230dfbf2cec1760ad",
          "grade": true,
          "grade_id": "cell-87b60412b0ba69d1",
          "locked": true,
          "points": 3,
          "schema_version": 3,
          "solution": false,
          "task": false
        },
        "colab": {
          "base_uri": "https://localhost:8080/",
          "height": 74
        },
        "id": "afda896e",
        "outputId": "8b74fbff-d2d1-47cf-ba55-0956bf4408c7"
      },
      "outputs": [
        {
          "output_type": "display_data",
          "data": {
            "text/plain": [
              "<IPython.core.display.HTML object>"
            ],
            "text/html": [
              "\n",
              "        <div class=\"alert alert-box alert-success\">\n",
              "        <h1> <!--{id:\"CORRECTMARK\", marks:\"3\"}--> \n",
              "         ✓ [3 marks] \n",
              "         </h1> </div>"
            ]
          },
          "metadata": {}
        }
      ],
      "source": [
        "with tick.marks(3):\n",
        "    assert int(ohe[7])  == 1"
      ]
    },
    {
      "cell_type": "markdown",
      "id": "245325be",
      "metadata": {
        "id": "245325be"
      },
      "source": [
        "Ahora, sobreescribamos el comportamiento natural de la inicializacion de pesos, para que estos en lugar de iniciar aleatoriamente, sean valores de 0 - size. Esto lo hacemos dentro `torch.no_grad()` para quitar el tracking de la gradiente (recuerden que cuando usamos los tensores de PyTorch la gradiente se le hace tracking, es decir que se almacenan para hacer la diferenciar la pérdida con respecto de cada parametro en el modelo. Debido a que en esta ocasion lo estamos seteando manualmente no queremos que se almacene y sea considerado en futuras backpropagations.\n",
        "\n",
        "Observen como al pasar el vector encodeado a la capa nos devuelve efectivamente el número que corresponde en `linear_layer(ohe)`"
      ]
    },
    {
      "cell_type": "code",
      "execution_count": 74,
      "id": "8fbbf1cb",
      "metadata": {
        "ExecuteTime": {
          "end_time": "2023-08-06T06:30:05.440557Z",
          "start_time": "2023-08-06T06:30:05.426787Z"
        },
        "deletable": false,
        "editable": false,
        "nbgrader": {
          "cell_type": "code",
          "checksum": "7d26f4b5566a553c62c142900b507a20",
          "grade": false,
          "grade_id": "cell-4c85a0ffbffa8e55",
          "locked": true,
          "schema_version": 3,
          "solution": false,
          "task": false
        },
        "colab": {
          "base_uri": "https://localhost:8080/"
        },
        "id": "8fbbf1cb",
        "outputId": "9c50717b-ef38-4698-8118-474f6397ef51"
      },
      "outputs": [
        {
          "output_type": "stream",
          "name": "stdout",
          "text": [
            "Parameter containing:\n",
            "tensor([[ 0.,  1.,  2.,  3.,  4.,  5.,  6.,  7.,  8.,  9., 10., 11., 12., 13.,\n",
            "         14., 15., 16., 17., 18., 19.]], requires_grad=True)\n",
            "tensor([7.], grad_fn=<SqueezeBackward4>)\n"
          ]
        }
      ],
      "source": [
        "with torch.no_grad():\n",
        "    linear_layer.weight = nn.Parameter(\n",
        "        torch.arange(size, dtype=torch.float).reshape(linear_layer.weight.shape))\n",
        "\n",
        "print(linear_layer.weight)\n",
        "print(linear_layer(ohe))"
      ]
    },
    {
      "cell_type": "markdown",
      "id": "56a7ee35",
      "metadata": {
        "deletable": false,
        "editable": false,
        "nbgrader": {
          "cell_type": "markdown",
          "checksum": "d9a663115c0df77e2c807969aac5ba8e",
          "grade": false,
          "grade_id": "cell-71d644e296aee563",
          "locked": true,
          "schema_version": 3,
          "solution": false,
          "task": false
        },
        "id": "56a7ee35"
      },
      "source": [
        "Ya que tenemos un mejor entendimiento de este tipo de layers en Word2Vec, debemos saber que PyTorch tiene una implementación más eficiente usando `nn.Embedding`, el cual toma los índices de input y regresa el peso del borde correspondiente a ese índice.\n",
        "\n",
        "Un equivalente a lo que hemos hecho anteriormente sería lo que se presenta en la siguiente celda.\n",
        "\n",
        "Noten como volvemos a obtener un tensor similar al que obtuvimos antes."
      ]
    },
    {
      "cell_type": "code",
      "execution_count": 75,
      "id": "c53403aa",
      "metadata": {
        "ExecuteTime": {
          "end_time": "2023-08-06T06:30:05.463215Z",
          "start_time": "2023-08-06T06:30:05.440557Z"
        },
        "deletable": false,
        "editable": false,
        "nbgrader": {
          "cell_type": "code",
          "checksum": "bc320f7bb25be19e4e0033321279d77c",
          "grade": false,
          "grade_id": "cell-bf93477666a5691e",
          "locked": true,
          "schema_version": 3,
          "solution": false,
          "task": false
        },
        "colab": {
          "base_uri": "https://localhost:8080/"
        },
        "id": "c53403aa",
        "outputId": "61cbd885-683f-4b4b-c2de-4dc81177890a"
      },
      "outputs": [
        {
          "output_type": "stream",
          "name": "stdout",
          "text": [
            "Parameter containing:\n",
            "tensor([[ 0.],\n",
            "        [ 1.],\n",
            "        [ 2.],\n",
            "        [ 3.],\n",
            "        [ 4.],\n",
            "        [ 5.],\n",
            "        [ 6.],\n",
            "        [ 7.],\n",
            "        [ 8.],\n",
            "        [ 9.],\n",
            "        [10.],\n",
            "        [11.],\n",
            "        [12.],\n",
            "        [13.],\n",
            "        [14.],\n",
            "        [15.],\n",
            "        [16.],\n",
            "        [17.],\n",
            "        [18.],\n",
            "        [19.]], requires_grad=True)\n",
            "tensor([7.], grad_fn=<EmbeddingBackward0>)\n"
          ]
        }
      ],
      "source": [
        "embedding_layer = nn.Embedding(size, 1)\n",
        "\n",
        "with torch.no_grad():\n",
        "    embedding_layer.weight = nn.Parameter(\n",
        "        torch.arange(size, dtype=torch.float\n",
        "        ).reshape(embedding_layer.weight.shape))\n",
        "\n",
        "print(embedding_layer.weight)\n",
        "print(embedding_layer(torch.tensor(input_)))"
      ]
    },
    {
      "cell_type": "markdown",
      "id": "7610c2f8",
      "metadata": {
        "deletable": false,
        "editable": false,
        "nbgrader": {
          "cell_type": "markdown",
          "checksum": "3bcc21a605eb207c161b41a6ded571ad",
          "grade": false,
          "grade_id": "cell-508a31edfe7f0cfc",
          "locked": true,
          "schema_version": 3,
          "solution": false,
          "task": false
        },
        "id": "7610c2f8"
      },
      "source": [
        "Con esto en consideración, es momento de implementar nuestro modelo Word2Vec.\n",
        "\n",
        "Noten el embedding_size, este corresponde a la cantidad de representaciones de cada palabra, como dijimos en clase, esto sería la cantidad de funciones de activaciones con las que trabajaremos.\n",
        "\n",
        "Además, consideren las siguientes explicaciones\n",
        "\n",
        "`self.embed`: Es una capa de embedding para convertir la entrada (el índice del token de centro/contexto) en la codificación one-hot, y luego recuperar los pesos correspondientes a estos índices en la capa hidden de menor dimensión.\n",
        "\n",
        "`self.expand`: Es una capa lineal para predecir la probabilidad de una palabra de centro/contexto dada la hidden layer. Deshabilitamos el bias (la intercepción) porque cambiamos la escala de nuestras predicciones de todos modos.\n",
        "\n",
        "`logits`: Este vuelve a expandir la capa hidden para hacer predicciones. Estas predicciones sin procesar deben volver a escalarse con softmax, pero omitimos este paso aquí, ya que PyTorch implementa los pasos relevantes en la Cross Entropy loss."
      ]
    },
    {
      "cell_type": "code",
      "execution_count": 76,
      "id": "159c2e13",
      "metadata": {
        "ExecuteTime": {
          "end_time": "2023-08-06T06:30:05.479149Z",
          "start_time": "2023-08-06T06:30:05.465210Z"
        },
        "id": "159c2e13"
      },
      "outputs": [],
      "source": [
        "class Word2Vec(nn.Module):\n",
        "    def __init__(self, vocab_size, embedding_size):\n",
        "        super().__init__()\n",
        "        self.embed = nn.Embedding(vocab_size, embedding_size)\n",
        "        self.expand = nn.Linear(embedding_size, vocab_size, bias=False)\n",
        "\n",
        "    def forward(self, input_):\n",
        "        # Pasamos el input a una representación más pequeña\n",
        "        hidden = self.embed(input_)\n",
        "        # Expandemos hacia las predicciones\n",
        "        logits = self.expand(hidden)\n",
        "        return logits"
      ]
    },
    {
      "cell_type": "markdown",
      "id": "9b549e68",
      "metadata": {
        "deletable": false,
        "editable": false,
        "nbgrader": {
          "cell_type": "markdown",
          "checksum": "d2424728d269e4533722e107620b3f37",
          "grade": false,
          "grade_id": "cell-821b7f6886ebdd0d",
          "locked": true,
          "schema_version": 3,
          "solution": false,
          "task": false
        },
        "id": "9b549e68"
      },
      "source": [
        "### Paso 3 - Entrenamiento (Training)\n",
        "\n",
        "\n",
        "El entrenamiento en el contexto de las redes neuronales significa hacer predicciones repetidamente utilizando las observaciones en el conjunto de datos y luego ajustar los parámetros para corregir el error en las predicciones.\n",
        "\n",
        "Debido a que no queremos que la red aprenda perfectamente la predicción más reciente mientras olvida todas las demás predicciones, generalmente le damos un \"learning rate\", que es una penalización en el ajuste de pérdida para evitar que se ajuste solo a la observación más reciente. (Recuerden como funciona backpropgation)\n",
        "\n",
        "Cuanto más tiempo entrenemos la red, con mayor perfección aprenderá los datos de entrenamiento, pero a menudo esto conlleva el riesgo de overfitting y no poder generalizar a datos no vistos. Sin embargo, dado que con Word2Vec nuestro objetivo no es inferir datos no vistos, sino describir datos \"vistos\", ¿cuál creen que es la implicación del overfitting en este tipo de modelos? (Más adelante se deja nuevamente la pregunta para que sea respondida)"
      ]
    },
    {
      "cell_type": "code",
      "execution_count": 77,
      "id": "0b5522dc",
      "metadata": {
        "ExecuteTime": {
          "end_time": "2023-08-06T22:14:29.330767Z",
          "start_time": "2023-08-06T22:14:29.296636Z"
        },
        "deletable": false,
        "editable": false,
        "nbgrader": {
          "cell_type": "code",
          "checksum": "1a82d8c2a18f8548fa5a4b5765fb2fc1",
          "grade": false,
          "grade_id": "cell-588eec0490d68d93",
          "locked": true,
          "schema_version": 3,
          "solution": false,
          "task": false
        },
        "colab": {
          "base_uri": "https://localhost:8080/"
        },
        "id": "0b5522dc",
        "outputId": "e8cab295-01f3-4e9d-83d7-972bfd82817d"
      },
      "outputs": [
        {
          "output_type": "stream",
          "name": "stdout",
          "text": [
            "Using: cuda\n"
          ]
        }
      ],
      "source": [
        "# Algunos hyper parametros\n",
        "\n",
        "# Demasiado pequeño pero es solo para fines de aprendizaje\n",
        "EMBED_SIZE = 50\n",
        "model = Word2Vec(n_v, EMBED_SIZE)\n",
        "\n",
        "# Traten de usar ya el CUDA si pueden por favor\n",
        "device = torch.device('cuda') if torch.cuda.is_available() else torch.device('cpu')\n",
        "print(\"Using:\",device)\n",
        "model.to(device)\n",
        "\n",
        "# Otros parametros para el training\n",
        "LR = 3e-4\n",
        "EPOCHS = 3\n",
        "loss_fn = nn.CrossEntropyLoss()\n",
        "# Noten el tipo de optimizador que estamos usando :)\n",
        "optimizer = torch.optim.AdamW(model.parameters(), lr=LR)"
      ]
    },
    {
      "cell_type": "code",
      "execution_count": 78,
      "id": "784bfe0c",
      "metadata": {
        "ExecuteTime": {
          "end_time": "2023-08-06T22:56:25.851356Z",
          "start_time": "2023-08-06T22:14:39.282185Z"
        },
        "deletable": false,
        "nbgrader": {
          "cell_type": "code",
          "checksum": "469a6891ae3c2d3ef10bfe706471264f",
          "grade": false,
          "grade_id": "cell-8a89fd3a288c223a",
          "locked": false,
          "schema_version": 3,
          "solution": true,
          "task": false
        },
        "colab": {
          "base_uri": "https://localhost:8080/"
        },
        "id": "784bfe0c",
        "outputId": "5966979c-b328-4421-e4ef-f6208028abbe"
      },
      "outputs": [
        {
          "output_type": "stream",
          "name": "stdout",
          "text": [
            "Working with batch 0\n",
            "Done working with element 0\n",
            "Done working with element 6500\n",
            "Done working with element 13000\n",
            "Done working with element 19500\n",
            "Done working with element 26000\n",
            "Done working with element 32500\n",
            "Done working with element 39000\n",
            "Done working with element 45500\n",
            "Done working with element 52000\n",
            "Done working with element 58500\n",
            "Done working with element 65000\n",
            "Working with batch 1\n",
            "Done working with element 0\n",
            "Done working with element 6500\n",
            "Done working with element 13000\n",
            "Done working with element 19500\n",
            "Done working with element 26000\n",
            "Done working with element 32500\n",
            "Done working with element 39000\n",
            "Done working with element 45500\n",
            "Done working with element 52000\n",
            "Done working with element 58500\n",
            "Done working with element 65000\n",
            "Working with batch 2\n",
            "Done working with element 0\n",
            "Done working with element 6500\n",
            "Done working with element 13000\n",
            "Done working with element 19500\n",
            "Done working with element 26000\n",
            "Done working with element 32500\n",
            "Done working with element 39000\n",
            "Done working with element 45500\n",
            "Done working with element 52000\n",
            "Done working with element 58500\n",
            "Done working with element 65000\n",
            "Working with batch 3\n",
            "Done working with element 0\n",
            "Done working with element 6500\n",
            "Done working with element 13000\n",
            "Done working with element 19500\n",
            "Done working with element 26000\n",
            "Done working with element 32500\n",
            "Done working with element 39000\n",
            "Done working with element 45500\n",
            "Done working with element 52000\n",
            "Done working with element 58500\n",
            "Done working with element 65000\n",
            "Working with batch 4\n",
            "Done working with element 0\n",
            "Done working with element 6500\n",
            "Done working with element 13000\n",
            "Done working with element 19500\n",
            "Done working with element 26000\n",
            "Done working with element 32500\n",
            "Done working with element 39000\n",
            "Done working with element 45500\n",
            "Done working with element 52000\n",
            "Done working with element 58500\n",
            "Done working with element 65000\n",
            "Working with batch 5\n",
            "Done working with element 0\n",
            "Done working with element 6500\n",
            "Done working with element 13000\n",
            "Done working with element 19500\n",
            "Done working with element 26000\n",
            "Done working with element 32500\n",
            "Done working with element 39000\n",
            "Done working with element 45500\n",
            "Done working with element 52000\n",
            "Done working with element 58500\n",
            "Done working with element 65000\n",
            "Working with batch 6\n",
            "Done working with element 0\n",
            "Done working with element 6500\n",
            "Done working with element 13000\n",
            "Done working with element 19500\n",
            "Done working with element 26000\n",
            "Done working with element 32500\n",
            "Done working with element 39000\n",
            "Done working with element 45500\n",
            "Done working with element 52000\n",
            "Done working with element 58500\n",
            "Done working with element 65000\n",
            "Working with batch 7\n",
            "Done working with element 0\n",
            "Done working with element 6500\n",
            "Done working with element 13000\n",
            "Done working with element 19500\n",
            "Done working with element 26000\n",
            "Done working with element 32500\n",
            "Done working with element 39000\n",
            "Done working with element 45500\n",
            "Done working with element 52000\n",
            "Done working with element 58500\n",
            "Done working with element 65000\n",
            "Working with batch 8\n",
            "Done working with element 0\n",
            "Done working with element 6500\n",
            "Done working with element 13000\n",
            "Done working with element 19500\n",
            "Done working with element 26000\n",
            "Done working with element 32500\n",
            "Done working with element 39000\n",
            "Done working with element 45500\n",
            "Done working with element 52000\n",
            "Done working with element 58500\n",
            "Done working with element 65000\n",
            "Working with batch 9\n",
            "Done working with element 0\n",
            "Done working with element 6500\n",
            "Done working with element 13000\n",
            "Done working with element 19500\n",
            "Done working with element 26000\n",
            "Done working with element 32500\n",
            "Done working with element 39000\n",
            "Done working with element 45500\n",
            "Done working with element 52000\n",
            "Done working with element 58500\n",
            "Done working with element 65000\n",
            "Working with batch 10\n",
            "Done working with element 0\n",
            "Done working with element 6500\n",
            "Done working with element 13000\n",
            "Done working with element 19500\n",
            "Done working with element 26000\n",
            "Done working with element 32500\n",
            "Done working with element 39000\n",
            "Done working with element 45500\n",
            "Done working with element 52000\n",
            "Done working with element 58500\n",
            "Done working with element 65000\n",
            "Working with batch 11\n",
            "Done working with element 0\n",
            "Done working with element 6500\n",
            "Done working with element 13000\n",
            "Done working with element 19500\n",
            "Done working with element 26000\n",
            "Done working with element 32500\n",
            "Done working with element 39000\n",
            "Done working with element 45500\n",
            "Done working with element 52000\n",
            "Done working with element 58500\n",
            "Done working with element 65000\n",
            "Working with batch 12\n",
            "Done working with element 0\n",
            "Done working with element 6500\n",
            "Done working with element 13000\n",
            "Done working with element 19500\n",
            "Done working with element 26000\n",
            "Done working with element 32500\n",
            "Done working with element 39000\n",
            "Done working with element 45500\n",
            "Done working with element 52000\n",
            "Done working with element 58500\n",
            "Done working with element 65000\n",
            "Working with batch 13\n",
            "Done working with element 0\n",
            "Epoca 0, loss: 6.8711\n",
            "Working with batch 0\n",
            "Done working with element 0\n",
            "Done working with element 6500\n",
            "Done working with element 13000\n",
            "Done working with element 19500\n",
            "Done working with element 26000\n",
            "Done working with element 32500\n",
            "Done working with element 39000\n",
            "Done working with element 45500\n",
            "Done working with element 52000\n",
            "Done working with element 58500\n",
            "Done working with element 65000\n",
            "Working with batch 1\n",
            "Done working with element 0\n",
            "Done working with element 6500\n",
            "Done working with element 13000\n",
            "Done working with element 19500\n",
            "Done working with element 26000\n",
            "Done working with element 32500\n",
            "Done working with element 39000\n",
            "Done working with element 45500\n",
            "Done working with element 52000\n",
            "Done working with element 58500\n",
            "Done working with element 65000\n",
            "Working with batch 2\n",
            "Done working with element 0\n",
            "Done working with element 6500\n",
            "Done working with element 13000\n",
            "Done working with element 19500\n",
            "Done working with element 26000\n",
            "Done working with element 32500\n",
            "Done working with element 39000\n",
            "Done working with element 45500\n",
            "Done working with element 52000\n",
            "Done working with element 58500\n",
            "Done working with element 65000\n",
            "Working with batch 3\n",
            "Done working with element 0\n",
            "Done working with element 6500\n",
            "Done working with element 13000\n",
            "Done working with element 19500\n",
            "Done working with element 26000\n",
            "Done working with element 32500\n",
            "Done working with element 39000\n",
            "Done working with element 45500\n",
            "Done working with element 52000\n",
            "Done working with element 58500\n",
            "Done working with element 65000\n",
            "Working with batch 4\n",
            "Done working with element 0\n",
            "Done working with element 6500\n",
            "Done working with element 13000\n",
            "Done working with element 19500\n",
            "Done working with element 26000\n",
            "Done working with element 32500\n",
            "Done working with element 39000\n",
            "Done working with element 45500\n",
            "Done working with element 52000\n",
            "Done working with element 58500\n",
            "Done working with element 65000\n",
            "Working with batch 5\n",
            "Done working with element 0\n",
            "Done working with element 6500\n",
            "Done working with element 13000\n",
            "Done working with element 19500\n",
            "Done working with element 26000\n",
            "Done working with element 32500\n",
            "Done working with element 39000\n",
            "Done working with element 45500\n",
            "Done working with element 52000\n",
            "Done working with element 58500\n",
            "Done working with element 65000\n",
            "Working with batch 6\n",
            "Done working with element 0\n",
            "Done working with element 6500\n",
            "Done working with element 13000\n",
            "Done working with element 19500\n",
            "Done working with element 26000\n",
            "Done working with element 32500\n",
            "Done working with element 39000\n",
            "Done working with element 45500\n",
            "Done working with element 52000\n",
            "Done working with element 58500\n",
            "Done working with element 65000\n",
            "Working with batch 7\n",
            "Done working with element 0\n",
            "Done working with element 6500\n",
            "Done working with element 13000\n",
            "Done working with element 19500\n",
            "Done working with element 26000\n",
            "Done working with element 32500\n",
            "Done working with element 39000\n",
            "Done working with element 45500\n",
            "Done working with element 52000\n",
            "Done working with element 58500\n",
            "Done working with element 65000\n",
            "Working with batch 8\n",
            "Done working with element 0\n",
            "Done working with element 6500\n",
            "Done working with element 13000\n",
            "Done working with element 19500\n",
            "Done working with element 26000\n",
            "Done working with element 32500\n",
            "Done working with element 39000\n",
            "Done working with element 45500\n",
            "Done working with element 52000\n",
            "Done working with element 58500\n",
            "Done working with element 65000\n",
            "Working with batch 9\n",
            "Done working with element 0\n",
            "Done working with element 6500\n",
            "Done working with element 13000\n",
            "Done working with element 19500\n",
            "Done working with element 26000\n",
            "Done working with element 32500\n",
            "Done working with element 39000\n",
            "Done working with element 45500\n",
            "Done working with element 52000\n",
            "Done working with element 58500\n",
            "Done working with element 65000\n",
            "Working with batch 10\n",
            "Done working with element 0\n",
            "Done working with element 6500\n",
            "Done working with element 13000\n",
            "Done working with element 19500\n",
            "Done working with element 26000\n",
            "Done working with element 32500\n",
            "Done working with element 39000\n",
            "Done working with element 45500\n",
            "Done working with element 52000\n",
            "Done working with element 58500\n",
            "Done working with element 65000\n",
            "Working with batch 11\n",
            "Done working with element 0\n",
            "Done working with element 6500\n",
            "Done working with element 13000\n",
            "Done working with element 19500\n",
            "Done working with element 26000\n",
            "Done working with element 32500\n",
            "Done working with element 39000\n",
            "Done working with element 45500\n",
            "Done working with element 52000\n",
            "Done working with element 58500\n",
            "Done working with element 65000\n",
            "Working with batch 12\n",
            "Done working with element 0\n",
            "Done working with element 6500\n",
            "Done working with element 13000\n",
            "Done working with element 19500\n",
            "Done working with element 26000\n",
            "Done working with element 32500\n",
            "Done working with element 39000\n",
            "Done working with element 45500\n",
            "Done working with element 52000\n",
            "Done working with element 58500\n",
            "Done working with element 65000\n",
            "Working with batch 13\n",
            "Done working with element 0\n",
            "Epoca 1, loss: 6.7700\n",
            "Working with batch 0\n",
            "Done working with element 0\n",
            "Done working with element 6500\n",
            "Done working with element 13000\n",
            "Done working with element 19500\n",
            "Done working with element 26000\n",
            "Done working with element 32500\n",
            "Done working with element 39000\n",
            "Done working with element 45500\n",
            "Done working with element 52000\n",
            "Done working with element 58500\n",
            "Done working with element 65000\n",
            "Working with batch 1\n",
            "Done working with element 0\n",
            "Done working with element 6500\n",
            "Done working with element 13000\n",
            "Done working with element 19500\n",
            "Done working with element 26000\n",
            "Done working with element 32500\n",
            "Done working with element 39000\n",
            "Done working with element 45500\n",
            "Done working with element 52000\n",
            "Done working with element 58500\n",
            "Done working with element 65000\n",
            "Working with batch 2\n",
            "Done working with element 0\n",
            "Done working with element 6500\n",
            "Done working with element 13000\n",
            "Done working with element 19500\n",
            "Done working with element 26000\n",
            "Done working with element 32500\n",
            "Done working with element 39000\n",
            "Done working with element 45500\n",
            "Done working with element 52000\n",
            "Done working with element 58500\n",
            "Done working with element 65000\n",
            "Working with batch 3\n",
            "Done working with element 0\n",
            "Done working with element 6500\n",
            "Done working with element 13000\n",
            "Done working with element 19500\n",
            "Done working with element 26000\n",
            "Done working with element 32500\n",
            "Done working with element 39000\n",
            "Done working with element 45500\n",
            "Done working with element 52000\n",
            "Done working with element 58500\n",
            "Done working with element 65000\n",
            "Working with batch 4\n",
            "Done working with element 0\n",
            "Done working with element 6500\n",
            "Done working with element 13000\n",
            "Done working with element 19500\n",
            "Done working with element 26000\n",
            "Done working with element 32500\n",
            "Done working with element 39000\n",
            "Done working with element 45500\n",
            "Done working with element 52000\n",
            "Done working with element 58500\n",
            "Done working with element 65000\n",
            "Working with batch 5\n",
            "Done working with element 0\n",
            "Done working with element 6500\n",
            "Done working with element 13000\n",
            "Done working with element 19500\n",
            "Done working with element 26000\n",
            "Done working with element 32500\n",
            "Done working with element 39000\n",
            "Done working with element 45500\n",
            "Done working with element 52000\n",
            "Done working with element 58500\n",
            "Done working with element 65000\n",
            "Working with batch 6\n",
            "Done working with element 0\n",
            "Done working with element 6500\n",
            "Done working with element 13000\n",
            "Done working with element 19500\n",
            "Done working with element 26000\n",
            "Done working with element 32500\n",
            "Done working with element 39000\n",
            "Done working with element 45500\n",
            "Done working with element 52000\n",
            "Done working with element 58500\n",
            "Done working with element 65000\n",
            "Working with batch 7\n",
            "Done working with element 0\n",
            "Done working with element 6500\n",
            "Done working with element 13000\n",
            "Done working with element 19500\n",
            "Done working with element 26000\n",
            "Done working with element 32500\n",
            "Done working with element 39000\n",
            "Done working with element 45500\n",
            "Done working with element 52000\n",
            "Done working with element 58500\n",
            "Done working with element 65000\n",
            "Working with batch 8\n",
            "Done working with element 0\n",
            "Done working with element 6500\n",
            "Done working with element 13000\n",
            "Done working with element 19500\n",
            "Done working with element 26000\n",
            "Done working with element 32500\n",
            "Done working with element 39000\n",
            "Done working with element 45500\n",
            "Done working with element 52000\n",
            "Done working with element 58500\n",
            "Done working with element 65000\n",
            "Working with batch 9\n",
            "Done working with element 0\n",
            "Done working with element 6500\n",
            "Done working with element 13000\n",
            "Done working with element 19500\n",
            "Done working with element 26000\n",
            "Done working with element 32500\n",
            "Done working with element 39000\n",
            "Done working with element 45500\n",
            "Done working with element 52000\n",
            "Done working with element 58500\n",
            "Done working with element 65000\n",
            "Working with batch 10\n",
            "Done working with element 0\n",
            "Done working with element 6500\n",
            "Done working with element 13000\n",
            "Done working with element 19500\n",
            "Done working with element 26000\n",
            "Done working with element 32500\n",
            "Done working with element 39000\n",
            "Done working with element 45500\n",
            "Done working with element 52000\n",
            "Done working with element 58500\n",
            "Done working with element 65000\n",
            "Working with batch 11\n",
            "Done working with element 0\n",
            "Done working with element 6500\n",
            "Done working with element 13000\n",
            "Done working with element 19500\n",
            "Done working with element 26000\n",
            "Done working with element 32500\n",
            "Done working with element 39000\n",
            "Done working with element 45500\n",
            "Done working with element 52000\n",
            "Done working with element 58500\n",
            "Done working with element 65000\n",
            "Working with batch 12\n",
            "Done working with element 0\n",
            "Done working with element 6500\n",
            "Done working with element 13000\n",
            "Done working with element 19500\n",
            "Done working with element 26000\n",
            "Done working with element 32500\n",
            "Done working with element 39000\n",
            "Done working with element 45500\n",
            "Done working with element 52000\n",
            "Done working with element 58500\n",
            "Done working with element 65000\n",
            "Working with batch 13\n",
            "Done working with element 0\n",
            "Epoca 2, loss: 6.7186\n"
          ]
        }
      ],
      "source": [
        "running_loss = []\n",
        "for epoch in range(EPOCHS):\n",
        "    epoch_loss = 0\n",
        "    losses = []\n",
        "    for ix, batch in enumerate(dataloader_train):\n",
        "        print(f\"Working with batch {ix}\")\n",
        "        data = batch[0]\n",
        "        for i in range(data.size(0)):\n",
        "            center = data[i, 0].to(device)\n",
        "            context = data[i, 1].to(device)\n",
        "\n",
        "            optimizer.zero_grad()\n",
        "\n",
        "            logits = model(input_=context)\n",
        "\n",
        "            loss = loss_fn(logits.unsqueeze(0), center.unsqueeze(0))\n",
        "\n",
        "            losses.append(loss.item())\n",
        "            loss.backward()\n",
        "            optimizer.step()\n",
        "\n",
        "            if i % 6500 == 0:\n",
        "                print(f\"Done working with element {i}\")\n",
        "\n",
        "    epoch_loss = np.mean(losses)\n",
        "    running_loss.append(epoch_loss)\n",
        "\n",
        "    print(f'Epoca {epoch}, loss: {epoch_loss:.4f}')\n"
      ]
    },
    {
      "cell_type": "code",
      "execution_count": 115,
      "id": "fe24f3e7",
      "metadata": {
        "ExecuteTime": {
          "end_time": "2023-08-07T00:08:24.732102Z",
          "start_time": "2023-08-07T00:08:24.725620Z"
        },
        "deletable": false,
        "editable": false,
        "nbgrader": {
          "cell_type": "code",
          "checksum": "32ff5c07dd800c1cc3e4b2446f56cded",
          "grade": true,
          "grade_id": "cell-5fe835d2e4773764",
          "locked": true,
          "points": 0,
          "schema_version": 3,
          "solution": false,
          "task": false
        },
        "id": "fe24f3e7",
        "outputId": "7fbfe14f-e4a1-44de-fad3-6aa20dc40f2c",
        "colab": {
          "base_uri": "https://localhost:8080/",
          "height": 74
        }
      },
      "outputs": [
        {
          "output_type": "display_data",
          "data": {
            "text/plain": [
              "<IPython.core.display.HTML object>"
            ],
            "text/html": [
              "\n",
              "        <div class=\"alert alert-box alert-success\">\n",
              "        <h1> <!--{id:\"CORRECTMARK\", marks:\"5\"}--> \n",
              "         ✓ [5 marks] \n",
              "         </h1> </div>"
            ]
          },
          "metadata": {}
        }
      ],
      "source": [
        "with tick.marks(5):\n",
        "    assert compare_numbers(new_representation(running_loss[len(running_loss)-1]), \"3c3d\", '0x1.b000000000000p+2')"
      ]
    },
    {
      "cell_type": "code",
      "execution_count": 80,
      "id": "55ce97f6",
      "metadata": {
        "ExecuteTime": {
          "end_time": "2023-08-06T23:47:02.588400Z",
          "start_time": "2023-08-06T23:47:02.385345Z"
        },
        "id": "55ce97f6",
        "outputId": "ace6f96e-0244-47ed-ecfd-0db83186e887",
        "colab": {
          "base_uri": "https://localhost:8080/",
          "height": 449
        }
      },
      "outputs": [
        {
          "output_type": "display_data",
          "data": {
            "text/plain": [
              "<Figure size 640x480 with 1 Axes>"
            ],
            "image/png": "[encoded data removed]"
          },
          "metadata": {}
        }
      ],
      "source": [
        "# Graficamos la perdida\n",
        "epoch_ = np.arange(len(running_loss))\n",
        "plt.figure()\n",
        "plt.plot(epoch_, running_loss, 'r', label='Loss',)\n",
        "plt.legend()\n",
        "plt.xlabel('Epoch'), plt.ylabel('NLL')\n",
        "plt.show()"
      ]
    },
    {
      "cell_type": "markdown",
      "id": "7f0a4424",
      "metadata": {
        "deletable": false,
        "editable": false,
        "nbgrader": {
          "cell_type": "markdown",
          "checksum": "bead7c6fdad67968d9b943584a416c84",
          "grade": false,
          "grade_id": "cell-6ba5a104f61555b3",
          "locked": true,
          "schema_version": 3,
          "solution": false,
          "task": false
        },
        "id": "7f0a4424"
      },
      "source": [
        "Bueno, hemos visto la cantidad de tiemp que hay que invertirle para entrenar una red tan sencilla como la que se usa en Wor2Vec. En mi caso, usando CUDA le tomó alrededor de **42 minutos**. Ahora consideren aquel modelo donde no solo se sacan 50 representaciones de cada palabra sino miles, además que se entrenan por más epocas, no solo 3.\n",
        "\n",
        "Ahora veamos que tipo de palabras son las más cercanas a una pequeña muestra de 4 palabras. Para esto primero necesitamos sacar los pesos del modelo y pasarlos al cpu para trabajarlos como NumPy Arrays. Luego aplicaremos una función para encontrar la distancia dada una métrica (en este caso la distancia del coseno)."
      ]
    },
    {
      "cell_type": "code",
      "execution_count": 81,
      "id": "3acd42a5",
      "metadata": {
        "ExecuteTime": {
          "end_time": "2023-08-07T00:38:03.418312Z",
          "start_time": "2023-08-07T00:38:03.384629Z"
        },
        "deletable": false,
        "editable": false,
        "nbgrader": {
          "cell_type": "code",
          "checksum": "adf71f64fc49e300a12791c23246a50b",
          "grade": false,
          "grade_id": "cell-79c39d4b13d3ed81",
          "locked": true,
          "schema_version": 3,
          "solution": false,
          "task": false
        },
        "id": "3acd42a5"
      },
      "outputs": [],
      "source": [
        "wordvecs = model.expand.weight.cpu().detach().numpy()\n",
        "tokens = ['good', 'bad', 'school', 'day']"
      ]
    },
    {
      "cell_type": "code",
      "execution_count": 82,
      "id": "bae64a29",
      "metadata": {
        "ExecuteTime": {
          "end_time": "2023-08-07T00:38:23.499862Z",
          "start_time": "2023-08-07T00:38:23.360937Z"
        },
        "deletable": false,
        "nbgrader": {
          "cell_type": "code",
          "checksum": "6e097e2559d99154cefeabf845d4aa0d",
          "grade": false,
          "grade_id": "cell-1d82d3393549def7",
          "locked": false,
          "schema_version": 3,
          "solution": true,
          "task": false
        },
        "id": "bae64a29",
        "outputId": "5317d222-859d-443e-95de-375deb2b1766",
        "colab": {
          "base_uri": "https://localhost:8080/"
        }
      },
      "outputs": [
        {
          "output_type": "stream",
          "name": "stdout",
          "text": [
            "good ['one', 'got', 'great', 'come', 'life', 'see', 'know', 'week', 'year', 'watch'] \n",
            "\n",
            "bad ['person', 'read', 'fuck', 'kill', 'better', 'wont', 'call', 'noth', 'word', 'away'] \n",
            "\n",
            "school ['long', 'two', 'meet', 'ill', 'hour', 'away', 'run', 'team', 'stay', 'hes'] \n",
            "\n",
            "day ['@user', 'amp', 'happi', 'get', 'go', 'today', 'love', 'im', 'like', 'make'] \n",
            "\n"
          ]
        }
      ],
      "source": [
        "from scipy.spatial import distance\n",
        "import numpy as np\n",
        "\n",
        "def get_distance_matrix(wordvecs, metric):\n",
        "    dist_matrix = distance.squareform(distance.pdist(wordvecs, metric))\n",
        "    return dist_matrix\n",
        "\n",
        "def get_k_similar_words(word, dist_matrix, k=10):\n",
        "    # Aprox 2 lineas para\n",
        "    # idx = ...\n",
        "    # dists = ... # Use la funcion dada arriba\n",
        "    # Hint: tok2id\n",
        "    # YOUR CODE HERE\n",
        "    idx = tok2id[word]\n",
        "    dists = dist_matrix[idx]\n",
        "    ind = np.argpartition(dists, k)[:k+1]\n",
        "    ind = ind[np.argsort(dists[ind])][1:]\n",
        "    out = [(i, id2tok[i], dists[i]) for i in ind]\n",
        "    return out\n",
        "\n",
        "dmat = get_distance_matrix(wordvecs, 'cosine')\n",
        "for word in tokens:\n",
        "    print(word, [t[1] for t in get_k_similar_words(word, dmat)], \"\\n\")"
      ]
    },
    {
      "cell_type": "markdown",
      "id": "e1d8137d",
      "metadata": {
        "ExecuteTime": {
          "end_time": "2023-08-07T00:38:47.402752Z",
          "start_time": "2023-08-07T00:38:47.384725Z"
        },
        "deletable": false,
        "editable": false,
        "nbgrader": {
          "cell_type": "markdown",
          "checksum": "639c2eb3f9df4bd7244c8a482d492350",
          "grade": false,
          "grade_id": "cell-5e5ce486e8860c29",
          "locked": true,
          "schema_version": 3,
          "solution": false,
          "task": false
        },
        "id": "e1d8137d"
      },
      "source": [
        "**PREGUNTAS:**\n",
        "* ¿Cuál es la implicación del overfitting en modelos como Word2Vec?\n",
        "  * En Word2Vec el “overfitting” significa ajustar tan de cerca las co-ocurrencias del corpus de entrenamiento que las incrustaciones capturan ruido específico y dejan de reflejar relaciones semánticas generales.\n",
        "  Sin embargo, como el objetivo es describir el texto visto, un cierto “sobreajuste” a las frecuencias reales puede ser aceptable, aunque reduce la robustez ante nuevos dominios.\n",
        "  Para mitigar excesivo ajuste se usan técnicas como subsampling de palabras frecuentes y regularización en el entrenamiento.\n",
        "* ¿Qué tan bien encontró palabras cercanas su modelo Word2Vec? ¿Podría mejorar? ¿Cómo podría mejorar?\n",
        "  * Los vecinos para “good” y “day” resultan sensatos (“great”, “happi”, “love”), pero hay ruido (“us”, “amp”, “@user”) por el bajo tamaño de embedding y pocas épocas de entrenamiento.\n",
        "  Podría mejorar usando embeddings de dimensión mayor, más épocas, negative sampling o hierarchical softmax, y limpiando o balanceando mejor el corpus (menos menciones de “@user”, “amp”).\n",
        "  Además, un preprocesamiento más riguroso (submuestreo de tokens muy frecuentes y ampliación de datos) ayudaría a obtener vectores más precisos\n",
        "* A grandes rasgos, ¿cuál es la diferencia entre Word2Vec y BERT?\n",
        "  * Word2Vec genera vectores estáticos: cada palabra tiene un único embedding independiente de su contexto.\n",
        "  BERT crea representaciones contextuales usando Transformers bidireccionales, de modo que el mismo término adopta vectores distintos según la frase.\n",
        "  Además, BERT se preentrena con tareas de máscara y Next Sentence Prediction, capturando relaciones semánticas y sintácticas más profundas."
      ]
    },
    {
      "cell_type": "markdown",
      "id": "de1f5579",
      "metadata": {
        "deletable": false,
        "editable": false,
        "nbgrader": {
          "cell_type": "markdown",
          "checksum": "2a9b67df22196d0cba2dfbdcb310efc3",
          "grade": false,
          "grade_id": "cell-b8252dd53c19ab29",
          "locked": true,
          "schema_version": 3,
          "solution": false,
          "task": false
        },
        "id": "de1f5579"
      },
      "source": [
        "## Parte 2 - Encoder - Decoder\n",
        "\n",
        "**Créditos:** La segunda parte de este laboratorio está tomado y basado en uno de los repositorios de Ben Trevett\n",
        "\n",
        "En esta ocasión vamos a centrarnos en una arquitectura Sequence to Sequence (Seq2Seq), entonces estaremos desarrollando un modelo que nos ayude a traducir de alemán a inglés. Tomaremos como base el paper [Sequence to Sequence Learning with Neural Networks](https://arxiv.org/abs/1409.3215). Recuerden que a pesar que esto es para frases/oraciones, los conceptos pueden ser aplicados para otras arquitecturas similares.\n",
        "\n",
        "**IMPORTANTE:** Recuerden usar virtual enviroments debido a que estaremos usando versiones viejas de la librerías. ¿Por qué? Las librerías eran un poco más explícitas que sus versiones más recientes. A continuación se dejan los comandos para la instalación de las más importantes\n",
        "\n",
        "```\n",
        "pip install -U torch==1.9.0+cu111 -f  https://download.pytorch.org/whl/cu111/torch_stable.html\n",
        "pip install -U torchtext==0.10.0\n",
        "```\n",
        "\n",
        "El primer comando instalará la librería de PyTorch con CUDA 11.1\n",
        "El segundo, instala TorchText en una versión donde la formulación del vocabulario para training, test y validation era más claro (esta es la principal por la que estamos usando esta versiones).\n",
        "\n",
        "\n",
        "### Introducción\n",
        "Los modelos más comunes seq2seq son los modelos *encoder-decoder*, los cuales usan una RNN para encodear el input y llevarlo a un solo vector. En este laboratorio nos estaremos refiriendo a dicho vector como *vector contexto*. Pensemos sobre el vector contexto como un ser abstracto que representa una frase completa. Este vector es luego decodeado por una segunda RNN, que aprende a generar la frase target (output) deseada al generar palabra por palabra.\n",
        "\n",
        "\n",
        "Consideren la siguiente ilustración para representar el proceso que estaremos realizando\n",
        "\n",
        "<img src=\"https://raw.githubusercontent.com/bentrevett/pytorch-seq2seq/49df8404d938a6edbf729876405558cc2c2b3013/assets/seq2seq1.png\" alt=\"Seq2Seq\" />\n",
        "\n",
        "*Crédito de imagen al autor, imagen tomada de \"Sequence to Sequence Learning with Neural Networks\" de Ben Trevett*\n",
        "\n",
        "Noten como la frase de input \"guten morgen\", se pasa a través de una capa de embedding (cuadros amarillos) y luego entra en los encodeadores (cuadros verdes). En esta ocasión agregamos un token de \"start of sequence\" (`<sos>`) al inicio de la frase, además de un token de \"end of sequence\" (`<eos>`) al final de la oración. Vean como en cada paso, la entrada del encoder RNN es tanto la representación embedding $e$ de la palabra actual $e(x_t)$, así como el estado oculto del paso anterior $h_{t-1}$, y el encoder genera un nuevo hidden state $h_t$. Entonces, podemos pensar en el hidden state como una representación vectorial de la oración hasta ese momento. La RNN se puede representar como una función de tanto $e(x_t)$ y $h_{t-1}$\n",
        "\n",
        "$$h_t = \\text{EncoderRNN}(e(x_t), h_{t-1})$$\n",
        "\n",
        "Por favor noten que estamos usando el termino RNN de forma general en este contexto, puede ser cualquier arquitectura como LSTM o GRU.\n",
        "\n",
        "Entonces estaremos trabajando con una secuencia como $X = \\{x_1, x_2, ..., x_T\\}$, donde $x_1 = <sos>$, $x_2 = guten$, y así consecutivamente. El hidden state inicial $h_0$ es usualmente iniciado con ceros o con algún parametro pre-aprendido.\n",
        "\n",
        "Una vez la palabra final $X_T$ ha pasado en la RNN a través de la embedding layer, usamos el hidden state final $h_T$ como vector de contexto. Es decir, $h_T = z$. El cual será la representación vectorial de toda la oración.\n",
        "\n",
        "Ahora que tenemos nuestro vector de contexto $z$, podemos empezar a decodear para obtener la oración target, \"good morning\". De nuevo, agregamos los tokens de inicio y fin de la secuencia de nuestra oración target. En cada paso, el input al decoder RNN (cuadros azules de la imagen) es la versión embedding $d$ de la palabra actual $d(y_t)$ así como también el hidden state del paso previo $s_{t-1}$m donde el hidden state del decoder incial $s_0$ es el vector de contexto $s_0 = z = h_T$, es decir, el hidden state decoder es el último hidden state encoder. Por ende, simlar al encoder, podemos representarlo como:\n",
        "\n",
        "$$s_t = \\text{DecoderRNN}(d(y_t), s_{t-1})$$\n",
        "\n",
        "A pesar que el input embeeding layer $e$ y el target embedding layer $d$ están representados como cuadros amarillos en la imagen, como dijimos en clase, estas son dos embedding layers diferentes con sus propios parametros.\n",
        "\n",
        "En el decoder, necestamos ir del hidden state a la palabra actual, por ello en cada paso usamos $s_t$ para predecir (a traves de pasarlo en una layer lineal, mostrada como cuadros morados) lo que se cree que es la siguiente palabra en la secuencia $\\hat{y}_t$\n",
        "\n",
        "$$\\hat{y}_t = f(s_t)$$\n",
        "\n",
        "Las palabras en el decoder son siempre generadas una después de la otra, con una por paso. Siempre usamos `<sos>` para el primer input del decodr $y_1$ y algumas veces usamos la palabra predicha por nuestro decoder, $\\hat{y}_{t-1}$. Que, como mencionamos en clase, se le llama *teacher forcing*.\n",
        "\n",
        "Cuando estamos entrenando o probando nuestro modelo, siempre sabemso cuantas palabras hay en nuestra secuencia target, entonces nos detenemos de generar palabras una vez alcanzamos esa cantidad. Durante las fases de inferencia (uso del modelo en la \"vida real\") seguimos generando palabras hasta que el modelo genere un token `<eos>` o después de una cierta cantidad de palabras dada. (Esto tambien lo mencionamoos en clase, es solo para refrescar los conceptos)\n",
        "\n",
        "Una vez tengamos nuestra secuencia target predicha $\\hat{Y} = \\{ \\hat{y}_1, \\hat{y}_2, ..., \\hat{y}_T \\}$, la comparamos contra nuestra secuencia target real. $Y = \\{ y_1, y_2, ..., y_T \\}$, para calcular la perdida. Usamos esta pérdida para actualizar los parámetros del modelo, como bien hemos hecho en otras ocasiones.\n",
        "\n",
        "### Preparación de Data\n",
        "\n",
        "Es momento de ponernos a manos a la obra. Estaremos programando nuestro modelo usando PyTorch y usando torchtext para ayudarnos a hacer todo el pre-procesamiento necesario. Ahora usaremos spaCy para ayudarnos en la tokenización de los datos"
      ]
    },
    {
      "cell_type": "code",
      "execution_count": 83,
      "id": "6b5246f2",
      "metadata": {
        "ExecuteTime": {
          "end_time": "2023-08-07T12:10:04.622634Z",
          "start_time": "2023-08-07T12:09:55.185815Z"
        },
        "id": "6b5246f2"
      },
      "outputs": [],
      "source": [
        "import torch\n",
        "import torch.nn as nn\n",
        "import torch.optim as optim\n",
        "\n",
        "from torchtext.datasets import Multi30k\n",
        "\n",
        "train_url = \"https://raw.githubusercontent.com/neychev/small_DL_repo/master/datasets/Multi30k/training.tar.gz\"\n",
        "val_url = \"https://raw.githubusercontent.com/neychev/small_DL_repo/master/datasets/Multi30k/validation.tar.gz\"\n",
        "test_url = \"https://raw.githubusercontent.com/neychev/small_DL_repo/master/datasets/Multi30k/mmt16_task1_test.tar.gz\"\n",
        "\n",
        "# Update the URLs in the Multi30k module\n",
        "Multi30k.urls = (train_url, val_url, test_url)\n",
        "\n",
        "from torchtext.data import Field, BucketIterator\n",
        "\n",
        "import spacy\n",
        "import numpy as np\n",
        "\n",
        "import random\n",
        "import math\n",
        "import time"
      ]
    },
    {
      "cell_type": "markdown",
      "id": "bb5f19f9",
      "metadata": {
        "deletable": false,
        "editable": false,
        "nbgrader": {
          "cell_type": "markdown",
          "checksum": "cb193611b74e155202745762d0e05a22",
          "grade": false,
          "grade_id": "cell-960a94af6dbde6f6",
          "locked": true,
          "schema_version": 3,
          "solution": false,
          "task": false
        },
        "id": "bb5f19f9"
      },
      "source": [
        "Colocamos las semillas para tener resultados consistentes."
      ]
    },
    {
      "cell_type": "code",
      "execution_count": 84,
      "id": "e2182c4e",
      "metadata": {
        "ExecuteTime": {
          "end_time": "2023-08-07T12:10:12.966554Z",
          "start_time": "2023-08-07T12:10:12.934552Z"
        },
        "id": "e2182c4e"
      },
      "outputs": [],
      "source": [
        "SEED = 1234\n",
        "\n",
        "random.seed(SEED)\n",
        "np.random.seed(SEED)\n",
        "torch.manual_seed(SEED)\n",
        "torch.cuda.manual_seed(SEED)\n",
        "torch.backends.cudnn.deterministic = True"
      ]
    },
    {
      "cell_type": "markdown",
      "id": "85333315",
      "metadata": {
        "deletable": false,
        "editable": false,
        "nbgrader": {
          "cell_type": "markdown",
          "checksum": "32e4c72dc8e544489e4bb9de559fc363",
          "grade": false,
          "grade_id": "cell-1a4d13aff19cbbc7",
          "locked": true,
          "schema_version": 3,
          "solution": false,
          "task": false
        },
        "id": "85333315"
      },
      "source": [
        "Ahora, necesitamos crear un tokenizador. Un tokenizador es una función que ayudará a convertir un string de alguna frase u oración en una lista de tokens individuales. Consideren que en una frase como \"good morning!\" se tienen tres tokens, siendo cada uno \"good\", \"morning\" y \"!\", noten que a pesar que el signo de admiracion no se considera una palabra, sí se considera como un token.\n",
        "\n",
        "Para la creación de nuestro tokenizador nos apoyaremos en spaCy, en este caso necesitamos los paquetes de aleman e inglés (se nombran abajo).\n",
        "\n",
        "Para instalar spaCy necesitarán ejecutar en la cmd\n",
        "```\n",
        "pip install spacy\n",
        "python -m spacy download en_core_web_sm\n",
        "python -m spacy download de_core_news_sm\n",
        "```\n",
        "\n",
        "**IMPORTANTE:** Recuerden usar virtual environments de Python, debido a que este laboratorio usa algunas librerías deprecadas, que como se explicó previamente, se hizo de este modo para ser más explícito el aprendizaje.\n",
        "\n",
        "Regresando al tema del tokenizer, primero cargaremos las dos versiones para los diferentes idiomas con los que estamos trabajando.\n",
        "\n",
        "Despues, crearemos unas funciones de tokenización. Estas pueden ser pasadas a TorchText y tomarán una oración y regresara la oración como una lista de tokens.\n",
        "\n",
        "Cabe la pena mencionar que en el paper que estamos tomando de base, ellos encontrarón util el revertir el orden del input dado que se cree que introducía varias dependencias a corto plazo en los datos que facilitan mucho el problema de optimización.\n",
        "\n",
        "Más adelante, usaremos `Field` (que actualmente está deprecado :( ) para manejar como la data debería ser procesada. Después, seteamos el parametro `tokenize` como función para cada caso. El aleman será el `SRC` y el inglés será el `TRG`. Además también se agrega el token para inicio y fin de la secuencia, además que convertirá todo en lowercase."
      ]
    },
    {
      "cell_type": "code",
      "execution_count": 85,
      "id": "d4bc4d31",
      "metadata": {
        "ExecuteTime": {
          "end_time": "2023-08-07T12:10:15.907822Z",
          "start_time": "2023-08-07T12:10:14.202661Z"
        },
        "id": "d4bc4d31"
      },
      "outputs": [],
      "source": [
        "spacy_de = spacy.load('de_core_news_sm')\n",
        "spacy_en = spacy.load('en_core_web_sm')"
      ]
    },
    {
      "cell_type": "code",
      "execution_count": 86,
      "id": "16e7543a",
      "metadata": {
        "ExecuteTime": {
          "end_time": "2023-08-07T12:10:16.426717Z",
          "start_time": "2023-08-07T12:10:16.410680Z"
        },
        "id": "16e7543a"
      },
      "outputs": [],
      "source": [
        "def tokenize_de(text):\n",
        "    \"\"\"\n",
        "    Tokenizes German text from a string into a list of strings (tokens) and reverses it\n",
        "    \"\"\"\n",
        "    return [tok.text for tok in spacy_de.tokenizer(text)][::-1]\n",
        "\n",
        "def tokenize_en(text):\n",
        "    \"\"\"\n",
        "    Tokenizes English text from a string into a list of strings (tokens)\n",
        "    \"\"\"\n",
        "    return [tok.text for tok in spacy_en.tokenizer(text)]"
      ]
    },
    {
      "cell_type": "code",
      "execution_count": 87,
      "id": "1227f75a",
      "metadata": {
        "ExecuteTime": {
          "end_time": "2023-08-07T12:10:16.775400Z",
          "start_time": "2023-08-07T12:10:16.767392Z"
        },
        "id": "1227f75a"
      },
      "outputs": [],
      "source": [
        "SRC = Field(tokenize = tokenize_de,\n",
        "            init_token = '<sos>',\n",
        "            eos_token = '<eos>',\n",
        "            lower = True)\n",
        "\n",
        "TRG = Field(tokenize = tokenize_en,\n",
        "            init_token = '<sos>',\n",
        "            eos_token = '<eos>',\n",
        "            lower = True)"
      ]
    },
    {
      "cell_type": "markdown",
      "id": "d48fd2f4",
      "metadata": {
        "deletable": false,
        "editable": false,
        "nbgrader": {
          "cell_type": "markdown",
          "checksum": "e4c7c0410bb12c03fd3a415d086f6aa1",
          "grade": false,
          "grade_id": "cell-f059a0654bba3e20",
          "locked": true,
          "schema_version": 3,
          "solution": false,
          "task": false
        },
        "id": "d48fd2f4"
      },
      "source": [
        "Ahora, debemos descargar el dataset. Para este caso estaremos usando el dataset llamado Multi30k. Este tiene aproximadamente 30K frases en inglés, aleman y francés, cada uno tiene alrededor de 12 palabras por frase.\n",
        "\n",
        "Además noten que `exts` especifica cual lenguage se debe usar como source y target, y `fields` da cuales campos usar para el source y target."
      ]
    },
    {
      "cell_type": "code",
      "execution_count": 88,
      "id": "5c2f3811",
      "metadata": {
        "ExecuteTime": {
          "end_time": "2023-08-07T12:10:21.558532Z",
          "start_time": "2023-08-07T12:10:17.137695Z"
        },
        "id": "5c2f3811"
      },
      "outputs": [],
      "source": [
        "train_data, valid_data, test_data = Multi30k.splits(exts = ('.de', '.en'),\n",
        "                                                    fields = (SRC, TRG))\n",
        "\n"
      ]
    },
    {
      "cell_type": "code",
      "execution_count": 89,
      "id": "9daf8a6a",
      "metadata": {
        "ExecuteTime": {
          "end_time": "2023-08-07T12:10:21.990868Z",
          "start_time": "2023-08-07T12:10:21.982854Z"
        },
        "colab": {
          "base_uri": "https://localhost:8080/"
        },
        "id": "9daf8a6a",
        "outputId": "d6c2d526-68ce-4298-de5a-402292ae20be"
      },
      "outputs": [
        {
          "output_type": "stream",
          "name": "stdout",
          "text": [
            "Numero de observaciones de training: 29000\n",
            "Numero de observaciones en validation: 1014\n",
            "Numero de observaciones en test: 1000\n"
          ]
        }
      ],
      "source": [
        "print(f\"Numero de observaciones de training: {len(train_data.examples)}\")\n",
        "print(f\"Numero de observaciones en validation: {len(valid_data.examples)}\")\n",
        "print(f\"Numero de observaciones en test: {len(test_data.examples)}\")"
      ]
    },
    {
      "cell_type": "code",
      "execution_count": 90,
      "id": "56422a53",
      "metadata": {
        "ExecuteTime": {
          "end_time": "2023-08-07T12:10:23.001453Z",
          "start_time": "2023-08-07T12:10:22.753770Z"
        },
        "id": "56422a53"
      },
      "outputs": [],
      "source": [
        "SRC.build_vocab(train_data, min_freq = 2)\n",
        "TRG.build_vocab(train_data, min_freq = 2)"
      ]
    },
    {
      "cell_type": "code",
      "execution_count": 91,
      "id": "af8e7be9",
      "metadata": {
        "ExecuteTime": {
          "end_time": "2023-08-07T12:10:22.369708Z",
          "start_time": "2023-08-07T12:10:22.353942Z"
        },
        "colab": {
          "base_uri": "https://localhost:8080/"
        },
        "id": "af8e7be9",
        "outputId": "bc041033-a71a-4fcf-a17a-8f59058c4a2c"
      },
      "outputs": [
        {
          "output_type": "stream",
          "name": "stdout",
          "text": [
            "{'src': ['.', 'büsche', 'vieler', 'nähe', 'der', 'in', 'freien', 'im', 'sind', 'männer', 'weiße', 'junge', 'zwei'], 'trg': ['two', 'young', ',', 'white', 'males', 'are', 'outside', 'near', 'many', 'bushes', '.']}\n"
          ]
        }
      ],
      "source": [
        "print(vars(train_data.examples[0]))"
      ]
    },
    {
      "cell_type": "markdown",
      "id": "f09e20d7",
      "metadata": {
        "id": "f09e20d7"
      },
      "source": [
        "Observen como el punto está al comienzo de la oración en alemán (src), por lo que parece que la oración se invirtió correctamente.\n",
        "\n",
        "Ahora, construiremos el vocabulario para los idiomas de source y de target. El vocabulario se utiliza para asociar cada token único con un índice (un número entero). Los vocabularios de los idiomas de origen y de destino son distintos.\n",
        "\n",
        "Usando el argumento `min_freq`, solo permitimos que aparezcan en nuestro vocabulario tokens que aparecen al menos 2 veces. Los tokens que aparecen solo una vez se convierten en un token desconocido `<unk>`.\n",
        "\n",
        "Es importante tener en cuenta que nuestro vocabulario solo debe construirse a partir del conjunto de entrenamiento y no del conjunto de validación/test. Esto evita la \"fuga de información\" en nuestro modelo, dándonos puntajes de validación/prueba inflados artificialmente."
      ]
    },
    {
      "cell_type": "code",
      "execution_count": 92,
      "id": "0b865dee",
      "metadata": {
        "ExecuteTime": {
          "end_time": "2023-08-07T12:10:23.312139Z",
          "start_time": "2023-08-07T12:10:23.299580Z"
        },
        "colab": {
          "base_uri": "https://localhost:8080/"
        },
        "id": "0b865dee",
        "outputId": "c5d5d3ab-5999-4096-c73f-f0237cd59d1d"
      },
      "outputs": [
        {
          "output_type": "stream",
          "name": "stdout",
          "text": [
            "Unique tokens in source (de) vocabulary: 7853\n",
            "Unique tokens in target (en) vocabulary: 5893\n"
          ]
        }
      ],
      "source": [
        "print(f\"Unique tokens in source (de) vocabulary: {len(SRC.vocab)}\")\n",
        "print(f\"Unique tokens in target (en) vocabulary: {len(TRG.vocab)}\")"
      ]
    },
    {
      "cell_type": "markdown",
      "id": "3686bcfc",
      "metadata": {
        "id": "3686bcfc"
      },
      "source": [
        "El paso final de preparar los datos es crear los iteradores. Estos se pueden iterar para devolver un lote de datos que tendrá un atributo `src` (los tensores de PyTorch\n",
        "que contienen un lote de oraciones de origen numeradas) y un atributo `trg` (los tensores de PyTorch que contienen un batch de oraciones de destino numeradas).\n",
        "\"Numericalized\" es solo una forma elegante de decir que se han convertido de una secuencia de tokens legibles a una secuencia de índices correspondientes, usando el vocabulario.\n",
        "\n",
        "También necesitamos definir un dispositivo `torch.device`. Esto se usa para indicarle a torchText que coloque o no los tensores en la GPU.\n",
        "Usamos la función `torch.cuda.is_available()`, que devolverá True si se detecta una GPU en nuestra computadora. Pasamos este dispositivo al iterador.\n",
        "\n",
        "Cuando obtenemos un lote de ejemplos usando un iterador, debemos asegurarnos de que todas las oraciones de origen tengan la misma longitud,\n",
        "al igual que las oraciones de destino. ¡Afortunadamente, los iteradores de torchText manejan esto por nosotros!\n",
        "\n",
        "Usamos un `BucketIterator` en lugar del `Iterador` estándar, ya que crea lotes de tal manera que minimiza la cantidad de padding en las oraciones de origen y de destino."
      ]
    },
    {
      "cell_type": "code",
      "execution_count": 93,
      "id": "c6fbb387",
      "metadata": {
        "ExecuteTime": {
          "end_time": "2023-08-07T12:10:23.716604Z",
          "start_time": "2023-08-07T12:10:23.695697Z"
        },
        "colab": {
          "base_uri": "https://localhost:8080/"
        },
        "id": "c6fbb387",
        "outputId": "56659d15-de80-4315-d739-96195e01fbe1"
      },
      "outputs": [
        {
          "output_type": "stream",
          "name": "stdout",
          "text": [
            "cuda\n"
          ]
        }
      ],
      "source": [
        "device = torch.device('cuda' if torch.cuda.is_available() else 'cpu')\n",
        "print(device)"
      ]
    },
    {
      "cell_type": "code",
      "execution_count": 94,
      "id": "fa44707d",
      "metadata": {
        "ExecuteTime": {
          "end_time": "2023-08-07T12:10:29.661585Z",
          "start_time": "2023-08-07T12:10:29.630173Z"
        },
        "id": "fa44707d"
      },
      "outputs": [],
      "source": [
        "BATCH_SIZE = 128\n",
        "\n",
        "train_iterator, valid_iterator, test_iterator = BucketIterator.splits(\n",
        "    (train_data, valid_data, test_data),\n",
        "    batch_size = BATCH_SIZE,\n",
        "    device = device)"
      ]
    },
    {
      "cell_type": "markdown",
      "id": "e85acaa4",
      "metadata": {
        "deletable": false,
        "editable": false,
        "nbgrader": {
          "cell_type": "markdown",
          "checksum": "d9c175e73457d779955f7a23deb52244",
          "grade": false,
          "grade_id": "cell-5f5382d652012307",
          "locked": true,
          "schema_version": 3,
          "solution": false,
          "task": false
        },
        "id": "e85acaa4"
      },
      "source": [
        "#### Decoder\n",
        "Ahora pasaremos a construir el decoder, el cual también será una 2-layer (4 en el paper) LSTM.\n",
        "\n",
        "![](assets/seq2seq3.png)\n",
        "\n",
        "\n",
        "La clase `Decoder` hace un solo paso de decodificación, es decir, genera un solo token por paso. La primera capa recibirá un hidden state y de celda del paso de tiempo anterior,\n",
        "$(s_{t-1}^1, c_{t-1}^1)$, y lo alimenta a través del LSTM con el token incrustado actual, $y_t$, para producir un nuevo hidden state y de celda, $(s_t ^1, c_t^1)$.\n",
        "Las capas subsiguientes usarán el estado oculto de la capa inferior, $s_t^{l-1}$, y los estados ocultos y de celda anteriores de su capa, $(s_{t-1}^l, c_{t-1) }^l)$.\n",
        "Esto proporciona ecuaciones muy similares a las del codificador.\n",
        "\n",
        "$$\\begin{align*}\n",
        "(s_t^1, c_t^1) = \\text{DecoderLSTM}^1(d(y_t), (s_{t-1}^1, c_{t-1}^1))\\\\\n",
        "(s_t^2, c_t^2) = \\text{DecoderLSTM}^2(s_t^1, (s_{t-1}^2, c_{t-1}^2))\n",
        "\\end{align*}$$\n",
        "\n",
        "\n",
        "Recuerde que los estados iniciales ocultos y de celda de nuestro decoder son nuestros vectores de contexto, que son los estados finales ocultos y de celda de nuestro decoder de la misma capa,\n",
        "es decir, $(s_0^l,c_0^l)=z^l=(h_T^l,c_T^l)$.\n",
        "\n",
        "Luego pasamos el hidden state desde la capa superior del RNN, $s_t^L$, a través de una capa lineal, $f$, para hacer una predicción de cuál será el siguiente token en la secuencia de destino (salida).\n",
        "debería ser, $\\hat{y}_{t+1}$.\n",
        "\n",
        "$$\\sombrero{y}_{t+1} = f(s_t^L)$$\n",
        "\n",
        "Los argumentos y la inicialización son similares a la clase `Encoder`, excepto que ahora tenemos un `output_dim` que es el tamaño del vocabulario para la salida/objetivo.\n",
        "También está la adición de la capa 'Lineal', utilizada para hacer las predicciones desde el hidden state de la capa superior.\n",
        "\n",
        "Dentro del método `forward`, aceptamos un batch de tokens de entrada, hidden state anteriores y estados de celda anteriores. Como solo estamos decodificando un token a la vez,\n",
        "los tokens de entrada siempre tendrán una longitud de secuencia de 1. \"Aflojamos\" los tokens de entrada para agregar una dimensión de longitud de oración de 1. Luego, de forma similar al encoder,\n",
        "pasamos a través de una capa de embedding y aplicamos dropout. Este batch de tokens embeddidos luego se pasa al RNN con los estados ocultos y de celda anteriores.\n",
        "Esto produce una \"salida\" (hidden state de la capa superior de la RNN), un nuevo \"hidden state\" (uno para cada capa, apilados uno encima del otro) y una nueva \"celda\".\n",
        "estado (también uno por capa, apilados uno encima del otro). Luego pasamos la `salida` (después de deshacernos de la dimensión de longitud de la oración) a través de la capa lineal para recibir nuestra\n",
        "`predicción`. Luego devolvemos la `predicción`, el nuevo hidden state y el nuevo estado `celular`.\n",
        "\n",
        "**Nota**: como siempre tenemos una longitud de secuencia de 1, podríamos usar `nn.LSTMCell`, en lugar de `nn.LSTM`, ya que está diseñado para manejar un lote de entradas que no son\n",
        "necesariamente en una secuencia. `nn.LSTMCell` es solo una sola celda y `nn.LSTM` es un envoltorio alrededor de múltiples celdas potenciales. Usando `nn.LSTMCell` en este caso\n",
        "significaría que no tenemos que `descomprimir` para agregar una dimensión de longitud de secuencia falsa, pero necesitaríamos un `nn.LSTMCell` por capa en el decoder y para asegurar que cada `nn.LSTMCell`\n",
        "recibe el hidden state inicial correcto del codificador. Todo esto hace que el código sea menos conciso, de ahí la decisión de seguir con el `nn.LSTM` regular."
      ]
    },
    {
      "cell_type": "code",
      "execution_count": 95,
      "id": "caa53fcf",
      "metadata": {
        "ExecuteTime": {
          "end_time": "2023-08-07T12:10:33.673863Z",
          "start_time": "2023-08-07T12:10:33.642635Z"
        },
        "deletable": false,
        "nbgrader": {
          "cell_type": "code",
          "checksum": "9062a639f1c3bd604869ed020a65ea7e",
          "grade": false,
          "grade_id": "cell-84131f43444e74fa",
          "locked": false,
          "schema_version": 3,
          "solution": true,
          "task": false
        },
        "id": "caa53fcf"
      },
      "outputs": [],
      "source": [
        "class Decoder(nn.Module):\n",
        "    def __init__(self, output_dim, emb_dim, hid_dim, n_layers, dropout):\n",
        "        super().__init__()\n",
        "\n",
        "        # keep track of sizes and layers\n",
        "        self.output_dim = output_dim\n",
        "        self.hid_dim    = hid_dim\n",
        "        self.n_layers   = n_layers\n",
        "\n",
        "        # embedding layer maps token indices to embeddings\n",
        "        self.embedding = nn.Embedding(output_dim, emb_dim)\n",
        "\n",
        "        # LSTM: input is embedding dim, hidden is hid_dim, with n_layers\n",
        "        # we pass dropout here to apply between LSTM layers\n",
        "        self.rnn = nn.LSTM(emb_dim, hid_dim, n_layers, dropout=dropout)\n",
        "\n",
        "        # final fully-connected layer to project hidden state to vocabulary\n",
        "        self.fc_out = nn.Linear(hid_dim, output_dim)\n",
        "\n",
        "        # dropout layer for embeddings\n",
        "        self.dropout = nn.Dropout(dropout)\n",
        "\n",
        "    def forward(self, input, hidden, cell):\n",
        "\n",
        "        # input = [batch size]\n",
        "        # hidden = [n_layers * n_directions, batch size, hid_dim]\n",
        "        # cell   = [n_layers * n_directions, batch size, hid_dim]\n",
        "\n",
        "        # decoder is unidirectional, so n_directions = 1\n",
        "        # reshape input to seq_len=1\n",
        "        input = input.unsqueeze(0)\n",
        "        # input = [1, batch size]\n",
        "\n",
        "        # apply dropout to embedding\n",
        "        embedded = self.dropout(self.embedding(input))\n",
        "        # embedded = [1, batch size, emb_dim]\n",
        "\n",
        "        # pass through LSTM\n",
        "        output, (hidden, cell) = self.rnn(embedded, (hidden, cell))\n",
        "        # output = [1, batch size, hid_dim]\n",
        "        # hidden = [n_layers, batch size, hid_dim]\n",
        "        # cell   = [n_layers, batch size, hid_dim]\n",
        "\n",
        "        # predict next token\n",
        "        prediction = self.fc_out(output.squeeze(0))\n",
        "        # prediction = [batch size, output_dim]\n",
        "\n",
        "        return prediction, hidden, cell\n"
      ]
    },
    {
      "cell_type": "code",
      "source": [
        "class Encoder(nn.Module):\n",
        "    def __init__(self, input_dim, emb_dim, hid_dim, n_layers, dropout):\n",
        "        super().__init__()\n",
        "        self.embedding = nn.Embedding(input_dim, emb_dim)\n",
        "        self.rnn = nn.LSTM(emb_dim, hid_dim, n_layers, dropout=dropout)\n",
        "        self.dropout = nn.Dropout(dropout)\n",
        "\n",
        "    def forward(self, src):\n",
        "        # src: [src_len, batch_size]\n",
        "        embedded = self.dropout(self.embedding(src))        # [src_len, batch, emb_dim]\n",
        "        outputs, (hidden, cell) = self.rnn(embedded)        # outputs not used by basic decoder\n",
        "        return hidden, cell                                 # each: [n_layers, batch, hid_dim]\n"
      ],
      "metadata": {
        "id": "r-zZizvmy1LB"
      },
      "id": "r-zZizvmy1LB",
      "execution_count": 96,
      "outputs": []
    },
    {
      "cell_type": "markdown",
      "id": "c2746420",
      "metadata": {
        "id": "c2746420"
      },
      "source": [
        "### Seq2Seq\n",
        "\n",
        "\n",
        "Para la parte final de la implementación, implementaremos el modelo seq2seq. Esto manejará:\n",
        "- recibir la oración de entrada/fuente\n",
        "- usar el encoder para producir los vectores de contexto\n",
        "- usar el decoder para producir la salida predicha/oración objetivo\n",
        "\n",
        "Nuestro modelo completo se verá así:\n",
        "\n",
        "![](activos/seq2seq4.png)\n",
        "\n",
        "El modelo `Seq2Seq` incluye un `Encoder`, un `Decoder` y un `dispositivo` (usado para colocar tensores en la GPU, si existe).\n",
        "\n",
        "Para esta implementación, debemos asegurarnos de que el número de capas y las dimensiones ocultas (y de celda) sean iguales en el 'Encoder' y 'Decoder'.\n",
        "Este no es siempre el caso, no necesariamente necesitamos la misma cantidad de capas o los mismos tamaños de dimensiones ocultas en un modelo de sequence to sequence.\n",
        "Sin embargo, si hiciéramos algo como tener un número diferente de capas, tendríamos que tomar decisiones sobre cómo manejar esto.\n",
        "Por ejemplo, si nuestro encoder tiene 2 capas y nuestro decoder solo tiene 1, ¿cómo se maneja esto? ¿Promediamos los dos vectores de contexto generados por el decoder?\n",
        "¿Pasamos ambos por una capa lineal? ¿Solo usamos el vector de contexto de la capa más alta? Etc.\n",
        "\n",
        "Nuestro método \"forward\" toma la oración fuente, la oración objetivo y un ratio de teacher-forcing. El ratio de teacher-forcing se usa cuando entrenamos nuestro modelo.\n",
        "Al decodificar, en cada paso, predeciremos cuál será el próximo token en la secuencia de destino de los tokens anteriores decodificados, $\\hat{y}_{t+1}=f(s_t^L)$.\n",
        "Con una probabilidad igual a la tasa de teacher forcing (`teacher_forcing_ratio`), utilizaremos el siguiente token real de la secuencia como entrada al decoder durante el siguiente paso.\n",
        "Sin embargo, con probabilidad `1 - Teacher_forcing_ratio`, usaremos el token que el modelo predijo como la próxima entrada al modelo, incluso si no coincide con el siguiente token real en la secuencia.\n",
        "\n",
        "Lo primero que hacemos en el método `forward` es crear un tensor `outputs` que almacenará todas nuestras predicciones, $\\hat{Y}$.\n",
        "\n",
        "Luego alimentamos la oración de entrada/fuente, `src`, en el encoder y recibimos los estados ocultos y de celda finales.\n",
        "\n",
        "La primera entrada al decoder es el token de inicio de secuencia (`<sos>`). Como nuestro tensor `trg` ya tiene el token `<sos>` agregado (desde cuando definimos el `init_token` en nuestro campo `TRG`)\n",
        "obtenemos nuestro $y_1$ cortándolo. Sabemos qué tan largas deben ser nuestras oraciones de destino (`max_len`), por lo que las repetimos muchas veces. El último token ingresado en el decoder es el **antes** del token `<eos>` - el `<eos>`\n",
        "el token nunca se ingresa en el decoder.\n",
        "\n",
        "Durante cada iteración del ciclo, nosotros:\n",
        "- pasar la entrada, los estados de celda anteriores ocultos y anteriores ($y_t, s_{t-1}, c_{t-1}$) al decoder\n",
        "- recibir una predicción, el siguiente estado oculto y el siguiente estado de celda ($\\hat{y}_{t+1}, s_{t}, c_{t}$) del decoder\n",
        "- colocar nuestra predicción, $\\hat{y}_{t+1}$/`output` en nuestro tensor de predicciones, $\\hat{Y}$/`outputs`\n",
        "- decidir si vamos a \"fuerza de maestros\" o no\n",
        "     - si lo hacemos, la siguiente 'entrada' es el siguiente token de verdad fundamental en la secuencia, $y_{t+1}$/`trg[t]`\n",
        "     - si no lo hacemos, la siguiente `entrada` es el siguiente token predicho en la secuencia, $\\hat{y}_{t+1}$/`top1`, que obtenemos al hacer un `argmax` sobre el tensor de salida\n",
        "    \n",
        "Una vez que hemos hecho todas nuestras predicciones, devolvemos nuestro tensor lleno de predicciones, $\\hat{Y}$/`outputs`.\n",
        "\n",
        "**Nota**: nuestro ccilo decodificador comienza en 1, no en 0. Esto significa que el elemento 0 de nuestro tensor de `salidas` sigue siendo todo ceros. Así que nuestras `trg` y `outputs` se parecen a:\n",
        "\n",
        "$$\\begin{alinear*}\n",
        "\\text{trg} = [<sos>, &y_1, y_2, y_3, <eos>]\\\\\n",
        "\\text{resultados} = [0, &\\hat{y}_1, \\hat{y}_2, \\hat{y}_3, <eos>]\n",
        "\\end{align*}$$\n",
        "\n",
        "Posteriormente cuando calculamos la pérdida, cortamos el primer elemento de cada tensor para obtener:\n",
        "\n",
        "$$\\begin{alinear*}\n",
        "\\text{trg} = [&y_1, y_2, y_3, <eos>]\\\\\n",
        "\\text{salidas} = [&\\hat{y}_1, \\hat{y}_2, \\hat{y}_3, <eos>]\n",
        "\\end{align*}$$"
      ]
    },
    {
      "cell_type": "code",
      "execution_count": 97,
      "id": "7f50e76b",
      "metadata": {
        "ExecuteTime": {
          "end_time": "2023-08-07T12:10:34.696215Z",
          "start_time": "2023-08-07T12:10:34.680165Z"
        },
        "deletable": false,
        "nbgrader": {
          "cell_type": "code",
          "checksum": "a053dcb6ba362103fad11691a8c9cdfd",
          "grade": false,
          "grade_id": "cell-3cf708a546f162a5",
          "locked": false,
          "schema_version": 3,
          "solution": true,
          "task": false
        },
        "id": "7f50e76b"
      },
      "outputs": [],
      "source": [
        "class Seq2Seq(nn.Module):\n",
        "    def __init__(self, encoder, decoder, device):\n",
        "        super().__init__()\n",
        "        self.encoder = encoder\n",
        "        self.decoder = decoder\n",
        "        self.device = device\n",
        "\n",
        "    def forward(self, src, trg, teacher_forcing_ratio=0.5):\n",
        "        # src: [src_len, batch], trg: [trg_len, batch]\n",
        "        batch_size = trg.shape[1]\n",
        "        trg_len = trg.shape[0]\n",
        "        vocab_size = self.decoder.output_dim\n",
        "\n",
        "        outputs = torch.zeros(trg_len, batch_size, vocab_size, device=self.device)\n",
        "\n",
        "        hidden, cell = self.encoder(src)\n",
        "        input = trg[0, :]  # <sos>\n",
        "\n",
        "        for t in range(1, trg_len):\n",
        "            output, hidden, cell = self.decoder(input, hidden, cell)\n",
        "            outputs[t] = output\n",
        "            teacher_force = torch.rand(1, device=self.device).item() < teacher_forcing_ratio\n",
        "            top1 = output.argmax(1)\n",
        "            input = trg[t] if teacher_force else top1\n",
        "\n",
        "        return outputs\n"
      ]
    },
    {
      "cell_type": "markdown",
      "id": "e6723282",
      "metadata": {
        "deletable": false,
        "editable": false,
        "nbgrader": {
          "cell_type": "markdown",
          "checksum": "206f7ba1031ec9e31fc458fbe10ce7a4",
          "grade": false,
          "grade_id": "cell-8024abbda3c1898a",
          "locked": true,
          "schema_version": 3,
          "solution": false,
          "task": false
        },
        "id": "e6723282"
      },
      "source": [
        "### Training Seq2Seq Model\n",
        "\n",
        "Ahora que tenemos nuestro modelo implementado, podemos comenzar a entrenarlo.\n",
        "\n",
        "Primero, inicializaremos nuestro modelo. Como se mencionó anteriormente, las dimensiones de entrada y salida están definidas por el tamaño del vocabulario.\n",
        "Las dimensiones de embedding y el dropout del encoder y el decoder pueden ser diferentes, pero el número de capas y el tamaño de los estados ocultos/de celda deben ser los mismos.\n",
        "\n",
        "Luego definimos el encoder, el decoder y luego nuestro modelo Seq2Seq, que colocamos en el \"device\".\n",
        "\n",
        "\n",
        "El siguiente paso es inicializar los pesos de nuestro modelo. En el paper afirman que inicializan todos los pesos a partir de una distribución uniforme entre -0,08 y +0,08, es decir, $\\mathcal{U}(-0,08, 0,08)$.\n",
        "\n",
        "Inicializamos los pesos en PyTorch creando una función que \"aplicamos\" a nuestro modelo. Al usar `apply`, se llamará a la función `init_weights` en cada módulo y submódulo dentro de nuestro modelo.\n",
        "Para cada módulo, recorremos todos los parámetros y los muestreamos desde una distribución uniforme con `nn.init.uniform_`.\n",
        "\n",
        "\n",
        "También definimos una función que calculará el número de parámetros entrenables en el modelo.\n",
        "\n",
        "\n",
        "Definimos nuestro optimizador, que usamos para actualizar nuestros parámetros en el ciclo de entrenamiento. Consulte [esta publicación](http://ruder.io/optimizing-gradient-descent/)\n",
        "para obtener información sobre diferentes optimizadores. Aquí usaremos a Adam\n",
        "\n",
        "A continuación, definimos nuestra función de pérdida. La función `CrossEntropyLoss` calcula tanto el log softmax como la log-likelihood negativo de nuestras predicciones.\n",
        "\n",
        "Nuestra función de pérdida calcula la pérdida promedio por token, sin embargo, al pasar el índice del token `<pad>` como el argumento `ignore_index`, ignoramos la pérdida siempre que el token de destino sea un token de relleno (padding)."
      ]
    },
    {
      "cell_type": "code",
      "execution_count": 98,
      "id": "ac8eac57",
      "metadata": {
        "ExecuteTime": {
          "end_time": "2023-08-07T12:10:41.167607Z",
          "start_time": "2023-08-07T12:10:35.024487Z"
        },
        "id": "ac8eac57"
      },
      "outputs": [],
      "source": [
        "INPUT_DIM = len(SRC.vocab)\n",
        "OUTPUT_DIM = len(TRG.vocab)\n",
        "ENC_EMB_DIM = 256\n",
        "DEC_EMB_DIM = 256\n",
        "HID_DIM = 512\n",
        "N_LAYERS = 2\n",
        "ENC_DROPOUT = 0.5\n",
        "DEC_DROPOUT = 0.5\n",
        "\n",
        "enc = Encoder(INPUT_DIM, ENC_EMB_DIM, HID_DIM, N_LAYERS, ENC_DROPOUT)\n",
        "dec = Decoder(OUTPUT_DIM, DEC_EMB_DIM, HID_DIM, N_LAYERS, DEC_DROPOUT)\n",
        "\n",
        "model = Seq2Seq(enc, dec, device).to(device)"
      ]
    },
    {
      "cell_type": "code",
      "execution_count": 99,
      "id": "04cb6773",
      "metadata": {
        "ExecuteTime": {
          "end_time": "2023-08-07T12:10:41.857202Z",
          "start_time": "2023-08-07T12:10:41.472920Z"
        },
        "id": "04cb6773",
        "colab": {
          "base_uri": "https://localhost:8080/"
        },
        "outputId": "1a3c3bb9-af97-44f5-8511-9cbd5f901aef"
      },
      "outputs": [
        {
          "output_type": "execute_result",
          "data": {
            "text/plain": [
              "Seq2Seq(\n",
              "  (encoder): Encoder(\n",
              "    (embedding): Embedding(7853, 256)\n",
              "    (rnn): LSTM(256, 512, num_layers=2, dropout=0.5)\n",
              "    (dropout): Dropout(p=0.5, inplace=False)\n",
              "  )\n",
              "  (decoder): Decoder(\n",
              "    (embedding): Embedding(5893, 256)\n",
              "    (rnn): LSTM(256, 512, num_layers=2, dropout=0.5)\n",
              "    (fc_out): Linear(in_features=512, out_features=5893, bias=True)\n",
              "    (dropout): Dropout(p=0.5, inplace=False)\n",
              "  )\n",
              ")"
            ]
          },
          "metadata": {},
          "execution_count": 99
        }
      ],
      "source": [
        "def init_weights(m):\n",
        "    for name, param in m.named_parameters():\n",
        "        nn.init.uniform_(param.data, -0.08, 0.08)\n",
        "\n",
        "model.apply(init_weights)"
      ]
    },
    {
      "cell_type": "code",
      "execution_count": 100,
      "id": "f7d5fffe",
      "metadata": {
        "ExecuteTime": {
          "end_time": "2023-08-07T12:10:42.370872Z",
          "start_time": "2023-08-07T12:10:42.339409Z"
        },
        "id": "f7d5fffe",
        "colab": {
          "base_uri": "https://localhost:8080/"
        },
        "outputId": "6b6219ac-04ee-4ec3-8e79-5eeed10e8c03"
      },
      "outputs": [
        {
          "output_type": "stream",
          "name": "stdout",
          "text": [
            "El modelo tiene 13,898,501 parametros entrenables\n"
          ]
        }
      ],
      "source": [
        "def count_parameters(model):\n",
        "    return sum(p.numel() for p in model.parameters() if p.requires_grad)\n",
        "\n",
        "print(f'El modelo tiene {count_parameters(model):,} parametros entrenables')"
      ]
    },
    {
      "cell_type": "code",
      "execution_count": 101,
      "id": "c927da4e",
      "metadata": {
        "ExecuteTime": {
          "end_time": "2023-08-07T12:10:42.863269Z",
          "start_time": "2023-08-07T12:10:42.847270Z"
        },
        "id": "c927da4e"
      },
      "outputs": [],
      "source": [
        "optimizer = optim.Adam(model.parameters())\n"
      ]
    },
    {
      "cell_type": "code",
      "execution_count": 102,
      "id": "1655eb2b",
      "metadata": {
        "ExecuteTime": {
          "end_time": "2023-08-07T12:10:43.263371Z",
          "start_time": "2023-08-07T12:10:43.247371Z"
        },
        "id": "1655eb2b"
      },
      "outputs": [],
      "source": [
        "TRG_PAD_IDX = TRG.vocab.stoi[TRG.pad_token]\n",
        "\n",
        "criterion = nn.CrossEntropyLoss(ignore_index = TRG_PAD_IDX)"
      ]
    },
    {
      "cell_type": "markdown",
      "id": "8aae5ea8",
      "metadata": {
        "id": "8aae5ea8"
      },
      "source": [
        "A continuación, definiremos nuestro ciclo de entrenamiento.\n",
        "\n",
        "Primero, configuraremos el modelo en \"modo de entrenamiento\" con `model.train()`. Esto activará el dropout (y batch normalization, que no estamos usando) y luego iterará a través de nuestro iterador de datos.\n",
        "\n",
        "Como se indicó anteriormente, nuestro ciclo decodificador comienza en 1, no en 0. Esto significa que el elemento 0 de nuestro tensor de \"salidas\" sigue siendo todo ceros. Así que nuestras `trg` y `outputs` se parecen a:\n",
        "\n",
        "$$\\begin{alinear*}\n",
        "\\text{trg} = [<sos>, &y_1, y_2, y_3, <eos>]\\\\\n",
        "\\text{resultados} = [0, &\\hat{y}_1, \\hat{y}_2, \\hat{y}_3, <eos>]\n",
        "\\end{align*}$$\n",
        "\n",
        "Aquí, cuando calculamos la pérdida, cortamos el primer elemento de cada tensor para obtener:\n",
        "\n",
        "$$\\begin{alinear*}\n",
        "\\text{trg} = [&y_1, y_2, y_3, <eos>]\\\\\n",
        "\\text{salidas} = [&\\hat{y}_1, \\hat{y}_2, \\hat{y}_3, <eos>]\n",
        "\\end{align*}$$\n",
        "\n",
        "En cada iteración:\n",
        "- obtener las oraciones de origen y de destino del lote, $X$ y $Y$\n",
        "- poner a cero los gradientes calculados a partir del último lote\n",
        "- introduzca el origen y el destino en el modelo para obtener el resultado, $\\hat{Y}$\n",
        "- como la función de pérdida solo funciona en entradas 2d con objetivos 1d, necesitamos aplanar cada uno de ellos con `.view`\n",
        "     - cortamos la primera columna de los tensores de salida y destino como se mencionó anteriormente\n",
        "- calcula los gradientes con `loss.backward()`\n",
        "- recorte los gradientes para evitar que exploten (un problema común en RNN)\n",
        "- actualizar los parámetros de nuestro modelo haciendo un paso optimizador\n",
        "- sumar el valor de la pérdida a un total acumulado\n",
        "\n",
        "Finalmente, devolvemos la pérdida que se promedia en todos los batches."
      ]
    },
    {
      "cell_type": "code",
      "execution_count": 103,
      "id": "7a2c0aff",
      "metadata": {
        "ExecuteTime": {
          "end_time": "2023-08-07T12:10:43.863678Z",
          "start_time": "2023-08-07T12:10:43.847678Z"
        },
        "deletable": false,
        "nbgrader": {
          "cell_type": "code",
          "checksum": "6ae8296e47d370619304a765919b81b2",
          "grade": false,
          "grade_id": "cell-5e78bda9de1a9bb9",
          "locked": false,
          "schema_version": 3,
          "solution": true,
          "task": false
        },
        "id": "7a2c0aff"
      },
      "outputs": [],
      "source": [
        "def train(model, iterator, optimizer, criterion, clip):\n",
        "    model.train()\n",
        "    epoch_loss = 0\n",
        "\n",
        "    for i, batch in enumerate(iterator):\n",
        "        src = batch.src\n",
        "        trg = batch.trg\n",
        "\n",
        "        # zero the gradients\n",
        "        optimizer.zero_grad()\n",
        "\n",
        "        output = model(src, trg)\n",
        "        # trg = [trg len, batch size]\n",
        "        # output = [trg len, batch size, output dim]\n",
        "\n",
        "        output_dim = output.shape[-1]\n",
        "        output = output[1:].view(-1, output_dim)\n",
        "        trg = trg[1:].view(-1)\n",
        "        # trg = [(trg len - 1) * batch size]\n",
        "        # output = [(trg len - 1) * batch size, output dim]\n",
        "\n",
        "        # compute loss\n",
        "        loss = criterion(output, trg)\n",
        "\n",
        "        loss.backward()\n",
        "        torch.nn.utils.clip_grad_norm_(model.parameters(), clip)\n",
        "        optimizer.step()\n",
        "\n",
        "        epoch_loss += loss.item()\n",
        "\n",
        "    return epoch_loss / len(iterator)\n"
      ]
    },
    {
      "cell_type": "markdown",
      "id": "8efc0050",
      "metadata": {
        "id": "8efc0050"
      },
      "source": [
        "Nuestro ciclo de evaluación es similar a nuestro ciclo de entrenamiento, sin embargo, como no estamos actualizando ningún parámetro, no necesitamos pasar un optimizador o un valor de clip.\n",
        "\n",
        "Debemos recordar poner el modelo en modo de evaluación con `model.eval()`. Esto desactivará el dropout (y la batch normalization, si se usa).\n",
        "\n",
        "Usamos el bloque `with torch.no_grad()` para garantizar que no se calculen gradientes dentro del bloque. Esto reduce el consumo de memoria y acelera el proceso.\n",
        "\n",
        "El ciclo de iteración es similar (sin las actualizaciones de parámetros); sin embargo, debemos asegurarnos de desactivar el forzado del maestro para la evaluación. }\n",
        "Esto hará que el modelo solo use sus propias predicciones para hacer más predicciones dentro de una oración, lo que refleja cómo se usaría en la implementación."
      ]
    },
    {
      "cell_type": "code",
      "execution_count": 104,
      "id": "75e62dbc",
      "metadata": {
        "ExecuteTime": {
          "end_time": "2023-08-07T12:10:44.241992Z",
          "start_time": "2023-08-07T12:10:44.225998Z"
        },
        "id": "75e62dbc"
      },
      "outputs": [],
      "source": [
        "def evaluate(model, iterator, criterion):\n",
        "\n",
        "    model.eval()\n",
        "\n",
        "    epoch_loss = 0\n",
        "\n",
        "    with torch.no_grad():\n",
        "\n",
        "        for i, batch in enumerate(iterator):\n",
        "\n",
        "            src = batch.src\n",
        "            trg = batch.trg\n",
        "\n",
        "            output = model(src, trg, 0) #turn off teacher forcing\n",
        "\n",
        "            #trg = [trg len, batch size]\n",
        "            #output = [trg len, batch size, output dim]\n",
        "\n",
        "            output_dim = output.shape[-1]\n",
        "\n",
        "            output = output[1:].view(-1, output_dim)\n",
        "            trg = trg[1:].view(-1)\n",
        "\n",
        "            #trg = [(trg len - 1) * batch size]\n",
        "            #output = [(trg len - 1) * batch size, output dim]\n",
        "\n",
        "            loss = criterion(output, trg)\n",
        "\n",
        "            epoch_loss += loss.item()\n",
        "\n",
        "    return epoch_loss / len(iterator)"
      ]
    },
    {
      "cell_type": "markdown",
      "id": "d4e696c7",
      "metadata": {
        "id": "d4e696c7"
      },
      "source": [
        "A continuación, crearemos una función que usaremos para decirnos cuánto tarda una época.\n"
      ]
    },
    {
      "cell_type": "code",
      "execution_count": 105,
      "id": "68230473",
      "metadata": {
        "ExecuteTime": {
          "end_time": "2023-08-07T12:10:44.738487Z",
          "start_time": "2023-08-07T12:10:44.726276Z"
        },
        "id": "68230473"
      },
      "outputs": [],
      "source": [
        "def epoch_time(start_time, end_time):\n",
        "    elapsed_time = end_time - start_time\n",
        "    elapsed_mins = int(elapsed_time / 60)\n",
        "    elapsed_secs = int(elapsed_time - (elapsed_mins * 60))\n",
        "    return elapsed_mins, elapsed_secs"
      ]
    },
    {
      "cell_type": "markdown",
      "id": "3fe81d58",
      "metadata": {
        "id": "3fe81d58"
      },
      "source": [
        "Ahora sí, ¡empecemos a entrenar a nuestro modelo!\n",
        "\n",
        "En cada época, comprobaremos si nuestro modelo ha logrado la mejor pérdida de validación hasta el momento. Si es así, actualizaremos nuestra mejor pérdida de validación y guardaremos los parámetros de nuestro modelo\n",
        "(llamado `state_dict` en PyTorch). Luego, cuando lleguemos a probar nuestro modelo, usaremos los parámetros guardados para lograr la mejor pérdida de validación.\n",
        "\n",
        "Estaremos mostrando tanto la pérdida como la perplejidad en cada época. Es más fácil ver un cambio en la perplejidad que un cambio en la pérdida ya que los números son mucho mayores.\n",
        "\n",
        "Ademas, cargaremos los parámetros (`state_dict`) que dieron a nuestro modelo la mejor pérdida de validación y ejecutaremos el modelo en el conjunto de prueba."
      ]
    },
    {
      "cell_type": "code",
      "execution_count": 108,
      "id": "7b0215ac",
      "metadata": {
        "ExecuteTime": {
          "end_time": "2023-08-07T12:18:56.768139Z",
          "start_time": "2023-08-07T12:10:46.646109Z"
        },
        "deletable": false,
        "nbgrader": {
          "cell_type": "code",
          "checksum": "3abe75f3dec72dbef634b76eecb3cb54",
          "grade": false,
          "grade_id": "cell-c2a7405dde118a6e",
          "locked": false,
          "schema_version": 3,
          "solution": true,
          "task": false
        },
        "id": "7b0215ac",
        "colab": {
          "base_uri": "https://localhost:8080/"
        },
        "outputId": "c349aab8-5826-413d-eaec-7bd54acb1714"
      },
      "outputs": [
        {
          "output_type": "stream",
          "name": "stdout",
          "text": [
            "Epoch: 01 | Time: 0m 30s\n",
            "\tTrain Loss: 4.056 | Train PPL:  57.771\n",
            "\t Val. Loss: 4.549 |  Val. PPL:  94.576\n",
            "Epoch: 02 | Time: 0m 29s\n",
            "\tTrain Loss: 3.924 | Train PPL:  50.578\n",
            "\t Val. Loss: 4.407 |  Val. PPL:  81.998\n",
            "Epoch: 03 | Time: 0m 29s\n",
            "\tTrain Loss: 3.790 | Train PPL:  44.246\n",
            "\t Val. Loss: 4.426 |  Val. PPL:  83.583\n"
          ]
        }
      ],
      "source": [
        "# para que pueda definir\n",
        "N_EPOCHS = 3\n",
        "CLIP = 1\n",
        "\n",
        "best_valid_loss = float('inf')\n",
        "\n",
        "for epoch in range(N_EPOCHS):\n",
        "\n",
        "    start_time = time.time()\n",
        "\n",
        "    train_loss = train(model, train_iterator, optimizer, criterion, CLIP)\n",
        "    valid_loss = evaluate(model, valid_iterator, criterion)\n",
        "\n",
        "    end_time = time.time()\n",
        "\n",
        "    epoch_mins, epoch_secs = epoch_time(start_time, end_time)\n",
        "\n",
        "    if valid_loss < best_valid_loss:\n",
        "        best_valid_loss = valid_loss\n",
        "        torch.save(model.state_dict(), 'tut1-model.pt')\n",
        "\n",
        "    print(f'Epoch: {epoch+1:02} | Time: {epoch_mins}m {epoch_secs}s')\n",
        "    print(f'\\tTrain Loss: {train_loss:.3f} | Train PPL: {math.exp(train_loss):7.3f}')\n",
        "    print(f'\\t Val. Loss: {valid_loss:.3f} |  Val. PPL: {math.exp(valid_loss):7.3f}')"
      ]
    },
    {
      "cell_type": "code",
      "execution_count": 114,
      "id": "71971818",
      "metadata": {
        "ExecuteTime": {
          "end_time": "2023-08-07T22:26:39.976008Z",
          "start_time": "2023-08-07T22:26:39.653650Z"
        },
        "deletable": false,
        "editable": false,
        "nbgrader": {
          "cell_type": "code",
          "checksum": "6f8a150031eecd843b79d77d31d64804",
          "grade": true,
          "grade_id": "cell-b70f37945f5a9981",
          "locked": true,
          "points": 50,
          "schema_version": 3,
          "solution": false,
          "task": false
        },
        "id": "71971818",
        "colab": {
          "base_uri": "https://localhost:8080/",
          "height": 127
        },
        "outputId": "0ed4ea62-9caf-40a2-a1ac-fc2785469117"
      },
      "outputs": [
        {
          "output_type": "display_data",
          "data": {
            "text/plain": [
              "<IPython.core.display.HTML object>"
            ],
            "text/html": [
              "\n",
              "        <div class=\"alert alert-box alert-success\">\n",
              "        <h1> <!--{id:\"CORRECTMARK\", marks:\"25\"}--> \n",
              "         ✓ [25 marks] \n",
              "         </h1> </div>"
            ]
          },
          "metadata": {}
        },
        {
          "output_type": "display_data",
          "data": {
            "text/plain": [
              "<IPython.core.display.HTML object>"
            ],
            "text/html": [
              "\n",
              "        <div class=\"alert alert-box alert-success\">\n",
              "        <h1> <!--{id:\"CORRECTMARK\", marks:\"25\"}--> \n",
              "         ✓ [25 marks] \n",
              "         </h1> </div>"
            ]
          },
          "metadata": {}
        }
      ],
      "source": [
        "# Se valuara que el loss de training sea menor a 4 y el de validacion a 4.5\n",
        "\n",
        "with tick.marks(25):\n",
        "    assert compare_numbers(new_representation(train_loss), \"3c3d\", '0x1.0000000000000p+2')\n",
        "\n",
        "with tick.marks(25):\n",
        "    assert compare_numbers(new_representation(valid_loss), \"3c3d\", '0x1.2000000000000p+2')"
      ]
    },
    {
      "cell_type": "code",
      "execution_count": 110,
      "id": "fe2c01e5",
      "metadata": {
        "ExecuteTime": {
          "end_time": "2023-08-07T12:25:14.650820Z",
          "start_time": "2023-08-07T12:25:12.622015Z"
        },
        "id": "fe2c01e5",
        "colab": {
          "base_uri": "https://localhost:8080/"
        },
        "outputId": "db43da60-e634-4ee5-e52f-7c61982d6f04"
      },
      "outputs": [
        {
          "output_type": "stream",
          "name": "stdout",
          "text": [
            "| Test Loss: 4.391 | Test PPL:  80.713 |\n"
          ]
        }
      ],
      "source": [
        "model.load_state_dict(torch.load('tut1-model.pt'))\n",
        "\n",
        "test_loss = evaluate(model, test_iterator, criterion)\n",
        "\n",
        "print(f'| Test Loss: {test_loss:.3f} | Test PPL: {math.exp(test_loss):7.3f} |')"
      ]
    },
    {
      "cell_type": "code",
      "execution_count": 120,
      "id": "a77cbb7c",
      "metadata": {
        "deletable": false,
        "editable": false,
        "nbgrader": {
          "cell_type": "code",
          "checksum": "58fd9a560ef4d1a143e87ce331286237",
          "grade": true,
          "grade_id": "cell-e94ae9af3a4c26ff",
          "locked": true,
          "points": 0,
          "schema_version": 3,
          "solution": false,
          "task": false
        },
        "id": "a77cbb7c",
        "colab": {
          "base_uri": "https://localhost:8080/",
          "height": 108
        },
        "outputId": "ea6da6e4-6ce1-437e-8109-bf19806d35d6"
      },
      "outputs": [
        {
          "output_type": "stream",
          "name": "stdout",
          "text": [
            "\n",
            "La fraccion de abajo muestra su rendimiento basado en las partes visibles de este laboratorio\n"
          ]
        },
        {
          "output_type": "display_data",
          "data": {
            "text/plain": [
              "<IPython.core.display.HTML object>"
            ],
            "text/html": [
              "<!--{id:\"TOTALMARK\",marks:\"81\", available:\"81\"}  -->\n",
              "        \n",
              "        <h1> 81 / 81 marks (100.0%) </h1>\n",
              "        "
            ]
          },
          "metadata": {}
        }
      ],
      "source": [
        "\n",
        "print()\n",
        "print(\"La fraccion de abajo muestra su rendimiento basado en las partes visibles de este laboratorio\")\n",
        "tick.summarise_marks() #"
      ]
    }
  ],
  "metadata": {
    "hide_input": false,
    "kernelspec": {
      "display_name": "Python 3",
      "name": "python3"
    },
    "language_info": {
      "codemirror_mode": {
        "name": "ipython",
        "version": 3
      },
      "file_extension": ".py",
      "mimetype": "text/x-python",
      "name": "python",
      "nbconvert_exporter": "python",
      "pygments_lexer": "ipython3",
      "version": "3.11.13"
    },
    "toc": {
      "base_numbering": 1,
      "nav_menu": {},
      "number_sections": true,
      "sideBar": true,
      "skip_h1_title": false,
      "title_cell": "Table of Contents",
      "title_sidebar": "Contents",
      "toc_cell": false,
      "toc_position": {},
      "toc_section_display": true,
      "toc_window_display": false
    },
    "varInspector": {
      "cols": {
        "lenName": 16,
        "lenType": 16,
        "lenVar": 40
      },
      "kernels_config": {
        "python": {
          "delete_cmd_postfix": "",
          "delete_cmd_prefix": "del ",
          "library": "var_list.py",
          "varRefreshCmd": "print(var_dic_list())"
        },
        "r": {
          "delete_cmd_postfix": ") ",
          "delete_cmd_prefix": "rm(",
          "library": "var_list.r",
          "varRefreshCmd": "cat(var_dic_list()) "
        }
      },
      "types_to_exclude": [
        "module",
        "function",
        "builtin_function_or_method",
        "instance",
        "_Feature"
      ],
      "window_display": false
    },
    "colab": {
      "provenance": [],
      "gpuType": "T4"
    },
    "accelerator": "GPU",
    "widgets": {
      "application/vnd.jupyter.widget-state+json": {
        "faf3c94db7c749ba9b8daca18abe9843": {
          "model_module": "@jupyter-widgets/controls",
          "model_name": "HBoxModel",
          "model_module_version": "1.5.0",
          "state": {
            "_dom_classes": [],
            "_model_module": "@jupyter-widgets/controls",
            "_model_module_version": "1.5.0",
            "_model_name": "HBoxModel",
            "_view_count": null,
            "_view_module": "@jupyter-widgets/controls",
            "_view_module_version": "1.5.0",
            "_view_name": "HBoxView",
            "box_style": "",
            "children": [
              "IPY_MODEL_f19d3e09fc5d417d8f1d7c26892d4d3d",
              "IPY_MODEL_b476bcd3ec594668a1e5350f4cdf4c1f",
              "IPY_MODEL_3ddd7fcb582f4bfdbbfee7ff249cb240"
            ],
            "layout": "IPY_MODEL_134fa017b1d14f20959510cf3041d752"
          }
        },
        "f19d3e09fc5d417d8f1d7c26892d4d3d": {
          "model_module": "@jupyter-widgets/controls",
          "model_name": "HTMLModel",
          "model_module_version": "1.5.0",
          "state": {
            "_dom_classes": [],
            "_model_module": "@jupyter-widgets/controls",
            "_model_module_version": "1.5.0",
            "_model_name": "HTMLModel",
            "_view_count": null,
            "_view_module": "@jupyter-widgets/controls",
            "_view_module_version": "1.5.0",
            "_view_name": "HTMLView",
            "description": "",
            "description_tooltip": null,
            "layout": "IPY_MODEL_5b202a166734442b983cbee9869eb8ff",
            "placeholder": "​",
            "style": "IPY_MODEL_2f9460f5c061489d80d1b305589fffe3",
            "value": "Map: 100%"
          }
        },
        "b476bcd3ec594668a1e5350f4cdf4c1f": {
          "model_module": "@jupyter-widgets/controls",
          "model_name": "FloatProgressModel",
          "model_module_version": "1.5.0",
          "state": {
            "_dom_classes": [],
            "_model_module": "@jupyter-widgets/controls",
            "_model_module_version": "1.5.0",
            "_model_name": "FloatProgressModel",
            "_view_count": null,
            "_view_module": "@jupyter-widgets/controls",
            "_view_module_version": "1.5.0",
            "_view_name": "ProgressView",
            "bar_style": "success",
            "description": "",
            "description_tooltip": null,
            "layout": "IPY_MODEL_c0091669a7ed42b89b3a8884f3d94ec3",
            "max": 31962,
            "min": 0,
            "orientation": "horizontal",
            "style": "IPY_MODEL_8c53f7db164b46e3a14961bc981c358d",
            "value": 31962
          }
        },
        "3ddd7fcb582f4bfdbbfee7ff249cb240": {
          "model_module": "@jupyter-widgets/controls",
          "model_name": "HTMLModel",
          "model_module_version": "1.5.0",
          "state": {
            "_dom_classes": [],
            "_model_module": "@jupyter-widgets/controls",
            "_model_module_version": "1.5.0",
            "_model_name": "HTMLModel",
            "_view_count": null,
            "_view_module": "@jupyter-widgets/controls",
            "_view_module_version": "1.5.0",
            "_view_name": "HTMLView",
            "description": "",
            "description_tooltip": null,
            "layout": "IPY_MODEL_b0c524c147a046119c1c436e084645ec",
            "placeholder": "​",
            "style": "IPY_MODEL_59bba92ed86f46ea9869f45b59a4534b",
            "value": " 31962/31962 [00:20&lt;00:00, 3718.43 examples/s]"
          }
        },
        "134fa017b1d14f20959510cf3041d752": {
          "model_module": "@jupyter-widgets/base",
          "model_name": "LayoutModel",
          "model_module_version": "1.2.0",
          "state": {
            "_model_module": "@jupyter-widgets/base",
            "_model_module_version": "1.2.0",
            "_model_name": "LayoutModel",
            "_view_count": null,
            "_view_module": "@jupyter-widgets/base",
            "_view_module_version": "1.2.0",
            "_view_name": "LayoutView",
            "align_content": null,
            "align_items": null,
            "align_self": null,
            "border": null,
            "bottom": null,
            "display": null,
            "flex": null,
            "flex_flow": null,
            "grid_area": null,
            "grid_auto_columns": null,
            "grid_auto_flow": null,
            "grid_auto_rows": null,
            "grid_column": null,
            "grid_gap": null,
            "grid_row": null,
            "grid_template_areas": null,
            "grid_template_columns": null,
            "grid_template_rows": null,
            "height": null,
            "justify_content": null,
            "justify_items": null,
            "left": null,
            "margin": null,
            "max_height": null,
            "max_width": null,
            "min_height": null,
            "min_width": null,
            "object_fit": null,
            "object_position": null,
            "order": null,
            "overflow": null,
            "overflow_x": null,
            "overflow_y": null,
            "padding": null,
            "right": null,
            "top": null,
            "visibility": null,
            "width": null
          }
        },
        "5b202a166734442b983cbee9869eb8ff": {
          "model_module": "@jupyter-widgets/base",
          "model_name": "LayoutModel",
          "model_module_version": "1.2.0",
          "state": {
            "_model_module": "@jupyter-widgets/base",
            "_model_module_version": "1.2.0",
            "_model_name": "LayoutModel",
            "_view_count": null,
            "_view_module": "@jupyter-widgets/base",
            "_view_module_version": "1.2.0",
            "_view_name": "LayoutView",
            "align_content": null,
            "align_items": null,
            "align_self": null,
            "border": null,
            "bottom": null,
            "display": null,
            "flex": null,
            "flex_flow": null,
            "grid_area": null,
            "grid_auto_columns": null,
            "grid_auto_flow": null,
            "grid_auto_rows": null,
            "grid_column": null,
            "grid_gap": null,
            "grid_row": null,
            "grid_template_areas": null,
            "grid_template_columns": null,
            "grid_template_rows": null,
            "height": null,
            "justify_content": null,
            "justify_items": null,
            "left": null,
            "margin": null,
            "max_height": null,
            "max_width": null,
            "min_height": null,
            "min_width": null,
            "object_fit": null,
            "object_position": null,
            "order": null,
            "overflow": null,
            "overflow_x": null,
            "overflow_y": null,
            "padding": null,
            "right": null,
            "top": null,
            "visibility": null,
            "width": null
          }
        },
        "2f9460f5c061489d80d1b305589fffe3": {
          "model_module": "@jupyter-widgets/controls",
          "model_name": "DescriptionStyleModel",
          "model_module_version": "1.5.0",
          "state": {
            "_model_module": "@jupyter-widgets/controls",
            "_model_module_version": "1.5.0",
            "_model_name": "DescriptionStyleModel",
            "_view_count": null,
            "_view_module": "@jupyter-widgets/base",
            "_view_module_version": "1.2.0",
            "_view_name": "StyleView",
            "description_width": ""
          }
        },
        "c0091669a7ed42b89b3a8884f3d94ec3": {
          "model_module": "@jupyter-widgets/base",
          "model_name": "LayoutModel",
          "model_module_version": "1.2.0",
          "state": {
            "_model_module": "@jupyter-widgets/base",
            "_model_module_version": "1.2.0",
            "_model_name": "LayoutModel",
            "_view_count": null,
            "_view_module": "@jupyter-widgets/base",
            "_view_module_version": "1.2.0",
            "_view_name": "LayoutView",
            "align_content": null,
            "align_items": null,
            "align_self": null,
            "border": null,
            "bottom": null,
            "display": null,
            "flex": null,
            "flex_flow": null,
            "grid_area": null,
            "grid_auto_columns": null,
            "grid_auto_flow": null,
            "grid_auto_rows": null,
            "grid_column": null,
            "grid_gap": null,
            "grid_row": null,
            "grid_template_areas": null,
            "grid_template_columns": null,
            "grid_template_rows": null,
            "height": null,
            "justify_content": null,
            "justify_items": null,
            "left": null,
            "margin": null,
            "max_height": null,
            "max_width": null,
            "min_height": null,
            "min_width": null,
            "object_fit": null,
            "object_position": null,
            "order": null,
            "overflow": null,
            "overflow_x": null,
            "overflow_y": null,
            "padding": null,
            "right": null,
            "top": null,
            "visibility": null,
            "width": null
          }
        },
        "8c53f7db164b46e3a14961bc981c358d": {
          "model_module": "@jupyter-widgets/controls",
          "model_name": "ProgressStyleModel",
          "model_module_version": "1.5.0",
          "state": {
            "_model_module": "@jupyter-widgets/controls",
            "_model_module_version": "1.5.0",
            "_model_name": "ProgressStyleModel",
            "_view_count": null,
            "_view_module": "@jupyter-widgets/base",
            "_view_module_version": "1.2.0",
            "_view_name": "StyleView",
            "bar_color": null,
            "description_width": ""
          }
        },
        "b0c524c147a046119c1c436e084645ec": {
          "model_module": "@jupyter-widgets/base",
          "model_name": "LayoutModel",
          "model_module_version": "1.2.0",
          "state": {
            "_model_module": "@jupyter-widgets/base",
            "_model_module_version": "1.2.0",
            "_model_name": "LayoutModel",
            "_view_count": null,
            "_view_module": "@jupyter-widgets/base",
            "_view_module_version": "1.2.0",
            "_view_name": "LayoutView",
            "align_content": null,
            "align_items": null,
            "align_self": null,
            "border": null,
            "bottom": null,
            "display": null,
            "flex": null,
            "flex_flow": null,
            "grid_area": null,
            "grid_auto_columns": null,
            "grid_auto_flow": null,
            "grid_auto_rows": null,
            "grid_column": null,
            "grid_gap": null,
            "grid_row": null,
            "grid_template_areas": null,
            "grid_template_columns": null,
            "grid_template_rows": null,
            "height": null,
            "justify_content": null,
            "justify_items": null,
            "left": null,
            "margin": null,
            "max_height": null,
            "max_width": null,
            "min_height": null,
            "min_width": null,
            "object_fit": null,
            "object_position": null,
            "order": null,
            "overflow": null,
            "overflow_x": null,
            "overflow_y": null,
            "padding": null,
            "right": null,
            "top": null,
            "visibility": null,
            "width": null
          }
        },
        "59bba92ed86f46ea9869f45b59a4534b": {
          "model_module": "@jupyter-widgets/controls",
          "model_name": "DescriptionStyleModel",
          "model_module_version": "1.5.0",
          "state": {
            "_model_module": "@jupyter-widgets/controls",
            "_model_module_version": "1.5.0",
            "_model_name": "DescriptionStyleModel",
            "_view_count": null,
            "_view_module": "@jupyter-widgets/base",
            "_view_module_version": "1.2.0",
            "_view_name": "StyleView",
            "description_width": ""
          }
        },
        "b95b65a6c9754318bea5fb19e247c0b9": {
          "model_module": "@jupyter-widgets/controls",
          "model_name": "HBoxModel",
          "model_module_version": "1.5.0",
          "state": {
            "_dom_classes": [],
            "_model_module": "@jupyter-widgets/controls",
            "_model_module_version": "1.5.0",
            "_model_name": "HBoxModel",
            "_view_count": null,
            "_view_module": "@jupyter-widgets/controls",
            "_view_module_version": "1.5.0",
            "_view_name": "HBoxView",
            "box_style": "",
            "children": [
              "IPY_MODEL_688a395404984fa19e8fca1a216e9a5e",
              "IPY_MODEL_4a7a5de1f4da44cb8723a8a161cba964",
              "IPY_MODEL_419c5536cebd4fa891ce8e3a146625b8"
            ],
            "layout": "IPY_MODEL_265da9a5a45542528292d435db942687"
          }
        },
        "688a395404984fa19e8fca1a216e9a5e": {
          "model_module": "@jupyter-widgets/controls",
          "model_name": "HTMLModel",
          "model_module_version": "1.5.0",
          "state": {
            "_dom_classes": [],
            "_model_module": "@jupyter-widgets/controls",
            "_model_module_version": "1.5.0",
            "_model_name": "HTMLModel",
            "_view_count": null,
            "_view_module": "@jupyter-widgets/controls",
            "_view_module_version": "1.5.0",
            "_view_name": "HTMLView",
            "description": "",
            "description_tooltip": null,
            "layout": "IPY_MODEL_2a0fbf10e80349b7b394833f360156bd",
            "placeholder": "​",
            "style": "IPY_MODEL_c994e2299b184be08b45c1ee39201339",
            "value": "Map: 100%"
          }
        },
        "4a7a5de1f4da44cb8723a8a161cba964": {
          "model_module": "@jupyter-widgets/controls",
          "model_name": "FloatProgressModel",
          "model_module_version": "1.5.0",
          "state": {
            "_dom_classes": [],
            "_model_module": "@jupyter-widgets/controls",
            "_model_module_version": "1.5.0",
            "_model_name": "FloatProgressModel",
            "_view_count": null,
            "_view_module": "@jupyter-widgets/controls",
            "_view_module_version": "1.5.0",
            "_view_name": "ProgressView",
            "bar_style": "success",
            "description": "",
            "description_tooltip": null,
            "layout": "IPY_MODEL_cbbd80df006040969455948f25f7d167",
            "max": 17197,
            "min": 0,
            "orientation": "horizontal",
            "style": "IPY_MODEL_c8e90c159b704ea680c173a98a772bbf",
            "value": 17197
          }
        },
        "419c5536cebd4fa891ce8e3a146625b8": {
          "model_module": "@jupyter-widgets/controls",
          "model_name": "HTMLModel",
          "model_module_version": "1.5.0",
          "state": {
            "_dom_classes": [],
            "_model_module": "@jupyter-widgets/controls",
            "_model_module_version": "1.5.0",
            "_model_name": "HTMLModel",
            "_view_count": null,
            "_view_module": "@jupyter-widgets/controls",
            "_view_module_version": "1.5.0",
            "_view_name": "HTMLView",
            "description": "",
            "description_tooltip": null,
            "layout": "IPY_MODEL_b8b64c63bb1e4546823d3803579bb2f9",
            "placeholder": "​",
            "style": "IPY_MODEL_1792c3f5d45c422ab6e663fd055e5c8b",
            "value": " 17197/17197 [00:04&lt;00:00, 3772.68 examples/s]"
          }
        },
        "265da9a5a45542528292d435db942687": {
          "model_module": "@jupyter-widgets/base",
          "model_name": "LayoutModel",
          "model_module_version": "1.2.0",
          "state": {
            "_model_module": "@jupyter-widgets/base",
            "_model_module_version": "1.2.0",
            "_model_name": "LayoutModel",
            "_view_count": null,
            "_view_module": "@jupyter-widgets/base",
            "_view_module_version": "1.2.0",
            "_view_name": "LayoutView",
            "align_content": null,
            "align_items": null,
            "align_self": null,
            "border": null,
            "bottom": null,
            "display": null,
            "flex": null,
            "flex_flow": null,
            "grid_area": null,
            "grid_auto_columns": null,
            "grid_auto_flow": null,
            "grid_auto_rows": null,
            "grid_column": null,
            "grid_gap": null,
            "grid_row": null,
            "grid_template_areas": null,
            "grid_template_columns": null,
            "grid_template_rows": null,
            "height": null,
            "justify_content": null,
            "justify_items": null,
            "left": null,
            "margin": null,
            "max_height": null,
            "max_width": null,
            "min_height": null,
            "min_width": null,
            "object_fit": null,
            "object_position": null,
            "order": null,
            "overflow": null,
            "overflow_x": null,
            "overflow_y": null,
            "padding": null,
            "right": null,
            "top": null,
            "visibility": null,
            "width": null
          }
        },
        "2a0fbf10e80349b7b394833f360156bd": {
          "model_module": "@jupyter-widgets/base",
          "model_name": "LayoutModel",
          "model_module_version": "1.2.0",
          "state": {
            "_model_module": "@jupyter-widgets/base",
            "_model_module_version": "1.2.0",
            "_model_name": "LayoutModel",
            "_view_count": null,
            "_view_module": "@jupyter-widgets/base",
            "_view_module_version": "1.2.0",
            "_view_name": "LayoutView",
            "align_content": null,
            "align_items": null,
            "align_self": null,
            "border": null,
            "bottom": null,
            "display": null,
            "flex": null,
            "flex_flow": null,
            "grid_area": null,
            "grid_auto_columns": null,
            "grid_auto_flow": null,
            "grid_auto_rows": null,
            "grid_column": null,
            "grid_gap": null,
            "grid_row": null,
            "grid_template_areas": null,
            "grid_template_columns": null,
            "grid_template_rows": null,
            "height": null,
            "justify_content": null,
            "justify_items": null,
            "left": null,
            "margin": null,
            "max_height": null,
            "max_width": null,
            "min_height": null,
            "min_width": null,
            "object_fit": null,
            "object_position": null,
            "order": null,
            "overflow": null,
            "overflow_x": null,
            "overflow_y": null,
            "padding": null,
            "right": null,
            "top": null,
            "visibility": null,
            "width": null
          }
        },
        "c994e2299b184be08b45c1ee39201339": {
          "model_module": "@jupyter-widgets/controls",
          "model_name": "DescriptionStyleModel",
          "model_module_version": "1.5.0",
          "state": {
            "_model_module": "@jupyter-widgets/controls",
            "_model_module_version": "1.5.0",
            "_model_name": "DescriptionStyleModel",
            "_view_count": null,
            "_view_module": "@jupyter-widgets/base",
            "_view_module_version": "1.2.0",
            "_view_name": "StyleView",
            "description_width": ""
          }
        },
        "cbbd80df006040969455948f25f7d167": {
          "model_module": "@jupyter-widgets/base",
          "model_name": "LayoutModel",
          "model_module_version": "1.2.0",
          "state": {
            "_model_module": "@jupyter-widgets/base",
            "_model_module_version": "1.2.0",
            "_model_name": "LayoutModel",
            "_view_count": null,
            "_view_module": "@jupyter-widgets/base",
            "_view_module_version": "1.2.0",
            "_view_name": "LayoutView",
            "align_content": null,
            "align_items": null,
            "align_self": null,
            "border": null,
            "bottom": null,
            "display": null,
            "flex": null,
            "flex_flow": null,
            "grid_area": null,
            "grid_auto_columns": null,
            "grid_auto_flow": null,
            "grid_auto_rows": null,
            "grid_column": null,
            "grid_gap": null,
            "grid_row": null,
            "grid_template_areas": null,
            "grid_template_columns": null,
            "grid_template_rows": null,
            "height": null,
            "justify_content": null,
            "justify_items": null,
            "left": null,
            "margin": null,
            "max_height": null,
            "max_width": null,
            "min_height": null,
            "min_width": null,
            "object_fit": null,
            "object_position": null,
            "order": null,
            "overflow": null,
            "overflow_x": null,
            "overflow_y": null,
            "padding": null,
            "right": null,
            "top": null,
            "visibility": null,
            "width": null
          }
        },
        "c8e90c159b704ea680c173a98a772bbf": {
          "model_module": "@jupyter-widgets/controls",
          "model_name": "ProgressStyleModel",
          "model_module_version": "1.5.0",
          "state": {
            "_model_module": "@jupyter-widgets/controls",
            "_model_module_version": "1.5.0",
            "_model_name": "ProgressStyleModel",
            "_view_count": null,
            "_view_module": "@jupyter-widgets/base",
            "_view_module_version": "1.2.0",
            "_view_name": "StyleView",
            "bar_color": null,
            "description_width": ""
          }
        },
        "b8b64c63bb1e4546823d3803579bb2f9": {
          "model_module": "@jupyter-widgets/base",
          "model_name": "LayoutModel",
          "model_module_version": "1.2.0",
          "state": {
            "_model_module": "@jupyter-widgets/base",
            "_model_module_version": "1.2.0",
            "_model_name": "LayoutModel",
            "_view_count": null,
            "_view_module": "@jupyter-widgets/base",
            "_view_module_version": "1.2.0",
            "_view_name": "LayoutView",
            "align_content": null,
            "align_items": null,
            "align_self": null,
            "border": null,
            "bottom": null,
            "display": null,
            "flex": null,
            "flex_flow": null,
            "grid_area": null,
            "grid_auto_columns": null,
            "grid_auto_flow": null,
            "grid_auto_rows": null,
            "grid_column": null,
            "grid_gap": null,
            "grid_row": null,
            "grid_template_areas": null,
            "grid_template_columns": null,
            "grid_template_rows": null,
            "height": null,
            "justify_content": null,
            "justify_items": null,
            "left": null,
            "margin": null,
            "max_height": null,
            "max_width": null,
            "min_height": null,
            "min_width": null,
            "object_fit": null,
            "object_position": null,
            "order": null,
            "overflow": null,
            "overflow_x": null,
            "overflow_y": null,
            "padding": null,
            "right": null,
            "top": null,
            "visibility": null,
            "width": null
          }
        },
        "1792c3f5d45c422ab6e663fd055e5c8b": {
          "model_module": "@jupyter-widgets/controls",
          "model_name": "DescriptionStyleModel",
          "model_module_version": "1.5.0",
          "state": {
            "_model_module": "@jupyter-widgets/controls",
            "_model_module_version": "1.5.0",
            "_model_name": "DescriptionStyleModel",
            "_view_count": null,
            "_view_module": "@jupyter-widgets/base",
            "_view_module_version": "1.2.0",
            "_view_name": "StyleView",
            "description_width": ""
          }
        },
        "4ab32e7e6cfc475dad1e76748e35491a": {
          "model_module": "@jupyter-widgets/controls",
          "model_name": "HBoxModel",
          "model_module_version": "1.5.0",
          "state": {
            "_dom_classes": [],
            "_model_module": "@jupyter-widgets/controls",
            "_model_module_version": "1.5.0",
            "_model_name": "HBoxModel",
            "_view_count": null,
            "_view_module": "@jupyter-widgets/controls",
            "_view_module_version": "1.5.0",
            "_view_name": "HBoxView",
            "box_style": "",
            "children": [
              "IPY_MODEL_466f8aad55c547b4ad9305bcef19418e",
              "IPY_MODEL_fd2b8bb8e90a4bc0b813f82cdfb56f80",
              "IPY_MODEL_cf879d8e096246db990bf87d97b500ea"
            ],
            "layout": "IPY_MODEL_8e38ef60829c480a992e42ca7ea50438"
          }
        },
        "466f8aad55c547b4ad9305bcef19418e": {
          "model_module": "@jupyter-widgets/controls",
          "model_name": "HTMLModel",
          "model_module_version": "1.5.0",
          "state": {
            "_dom_classes": [],
            "_model_module": "@jupyter-widgets/controls",
            "_model_module_version": "1.5.0",
            "_model_name": "HTMLModel",
            "_view_count": null,
            "_view_module": "@jupyter-widgets/controls",
            "_view_module_version": "1.5.0",
            "_view_name": "HTMLView",
            "description": "",
            "description_tooltip": null,
            "layout": "IPY_MODEL_7c158e874191473191680800095009cf",
            "placeholder": "​",
            "style": "IPY_MODEL_764d8e5cf4444090be65f3bbe4e61083",
            "value": "Map: 100%"
          }
        },
        "fd2b8bb8e90a4bc0b813f82cdfb56f80": {
          "model_module": "@jupyter-widgets/controls",
          "model_name": "FloatProgressModel",
          "model_module_version": "1.5.0",
          "state": {
            "_dom_classes": [],
            "_model_module": "@jupyter-widgets/controls",
            "_model_module_version": "1.5.0",
            "_model_name": "FloatProgressModel",
            "_view_count": null,
            "_view_module": "@jupyter-widgets/controls",
            "_view_module_version": "1.5.0",
            "_view_name": "ProgressView",
            "bar_style": "success",
            "description": "",
            "description_tooltip": null,
            "layout": "IPY_MODEL_2bf7683eb7d34dfd9abbb03688b736b8",
            "max": 31962,
            "min": 0,
            "orientation": "horizontal",
            "style": "IPY_MODEL_70151c52e7a348a49acf331b332a19fb",
            "value": 31962
          }
        },
        "cf879d8e096246db990bf87d97b500ea": {
          "model_module": "@jupyter-widgets/controls",
          "model_name": "HTMLModel",
          "model_module_version": "1.5.0",
          "state": {
            "_dom_classes": [],
            "_model_module": "@jupyter-widgets/controls",
            "_model_module_version": "1.5.0",
            "_model_name": "HTMLModel",
            "_view_count": null,
            "_view_module": "@jupyter-widgets/controls",
            "_view_module_version": "1.5.0",
            "_view_name": "HTMLView",
            "description": "",
            "description_tooltip": null,
            "layout": "IPY_MODEL_861561d2b17f45f6b0d80779648a7011",
            "placeholder": "​",
            "style": "IPY_MODEL_02a73271d1f14cc1b1708d9f8113c483",
            "value": " 31962/31962 [00:05&lt;00:00, 8197.30 examples/s]"
          }
        },
        "8e38ef60829c480a992e42ca7ea50438": {
          "model_module": "@jupyter-widgets/base",
          "model_name": "LayoutModel",
          "model_module_version": "1.2.0",
          "state": {
            "_model_module": "@jupyter-widgets/base",
            "_model_module_version": "1.2.0",
            "_model_name": "LayoutModel",
            "_view_count": null,
            "_view_module": "@jupyter-widgets/base",
            "_view_module_version": "1.2.0",
            "_view_name": "LayoutView",
            "align_content": null,
            "align_items": null,
            "align_self": null,
            "border": null,
            "bottom": null,
            "display": null,
            "flex": null,
            "flex_flow": null,
            "grid_area": null,
            "grid_auto_columns": null,
            "grid_auto_flow": null,
            "grid_auto_rows": null,
            "grid_column": null,
            "grid_gap": null,
            "grid_row": null,
            "grid_template_areas": null,
            "grid_template_columns": null,
            "grid_template_rows": null,
            "height": null,
            "justify_content": null,
            "justify_items": null,
            "left": null,
            "margin": null,
            "max_height": null,
            "max_width": null,
            "min_height": null,
            "min_width": null,
            "object_fit": null,
            "object_position": null,
            "order": null,
            "overflow": null,
            "overflow_x": null,
            "overflow_y": null,
            "padding": null,
            "right": null,
            "top": null,
            "visibility": null,
            "width": null
          }
        },
        "7c158e874191473191680800095009cf": {
          "model_module": "@jupyter-widgets/base",
          "model_name": "LayoutModel",
          "model_module_version": "1.2.0",
          "state": {
            "_model_module": "@jupyter-widgets/base",
            "_model_module_version": "1.2.0",
            "_model_name": "LayoutModel",
            "_view_count": null,
            "_view_module": "@jupyter-widgets/base",
            "_view_module_version": "1.2.0",
            "_view_name": "LayoutView",
            "align_content": null,
            "align_items": null,
            "align_self": null,
            "border": null,
            "bottom": null,
            "display": null,
            "flex": null,
            "flex_flow": null,
            "grid_area": null,
            "grid_auto_columns": null,
            "grid_auto_flow": null,
            "grid_auto_rows": null,
            "grid_column": null,
            "grid_gap": null,
            "grid_row": null,
            "grid_template_areas": null,
            "grid_template_columns": null,
            "grid_template_rows": null,
            "height": null,
            "justify_content": null,
            "justify_items": null,
            "left": null,
            "margin": null,
            "max_height": null,
            "max_width": null,
            "min_height": null,
            "min_width": null,
            "object_fit": null,
            "object_position": null,
            "order": null,
            "overflow": null,
            "overflow_x": null,
            "overflow_y": null,
            "padding": null,
            "right": null,
            "top": null,
            "visibility": null,
            "width": null
          }
        },
        "764d8e5cf4444090be65f3bbe4e61083": {
          "model_module": "@jupyter-widgets/controls",
          "model_name": "DescriptionStyleModel",
          "model_module_version": "1.5.0",
          "state": {
            "_model_module": "@jupyter-widgets/controls",
            "_model_module_version": "1.5.0",
            "_model_name": "DescriptionStyleModel",
            "_view_count": null,
            "_view_module": "@jupyter-widgets/base",
            "_view_module_version": "1.2.0",
            "_view_name": "StyleView",
            "description_width": ""
          }
        },
        "2bf7683eb7d34dfd9abbb03688b736b8": {
          "model_module": "@jupyter-widgets/base",
          "model_name": "LayoutModel",
          "model_module_version": "1.2.0",
          "state": {
            "_model_module": "@jupyter-widgets/base",
            "_model_module_version": "1.2.0",
            "_model_name": "LayoutModel",
            "_view_count": null,
            "_view_module": "@jupyter-widgets/base",
            "_view_module_version": "1.2.0",
            "_view_name": "LayoutView",
            "align_content": null,
            "align_items": null,
            "align_self": null,
            "border": null,
            "bottom": null,
            "display": null,
            "flex": null,
            "flex_flow": null,
            "grid_area": null,
            "grid_auto_columns": null,
            "grid_auto_flow": null,
            "grid_auto_rows": null,
            "grid_column": null,
            "grid_gap": null,
            "grid_row": null,
            "grid_template_areas": null,
            "grid_template_columns": null,
            "grid_template_rows": null,
            "height": null,
            "justify_content": null,
            "justify_items": null,
            "left": null,
            "margin": null,
            "max_height": null,
            "max_width": null,
            "min_height": null,
            "min_width": null,
            "object_fit": null,
            "object_position": null,
            "order": null,
            "overflow": null,
            "overflow_x": null,
            "overflow_y": null,
            "padding": null,
            "right": null,
            "top": null,
            "visibility": null,
            "width": null
          }
        },
        "70151c52e7a348a49acf331b332a19fb": {
          "model_module": "@jupyter-widgets/controls",
          "model_name": "ProgressStyleModel",
          "model_module_version": "1.5.0",
          "state": {
            "_model_module": "@jupyter-widgets/controls",
            "_model_module_version": "1.5.0",
            "_model_name": "ProgressStyleModel",
            "_view_count": null,
            "_view_module": "@jupyter-widgets/base",
            "_view_module_version": "1.2.0",
            "_view_name": "StyleView",
            "bar_color": null,
            "description_width": ""
          }
        },
        "861561d2b17f45f6b0d80779648a7011": {
          "model_module": "@jupyter-widgets/base",
          "model_name": "LayoutModel",
          "model_module_version": "1.2.0",
          "state": {
            "_model_module": "@jupyter-widgets/base",
            "_model_module_version": "1.2.0",
            "_model_name": "LayoutModel",
            "_view_count": null,
            "_view_module": "@jupyter-widgets/base",
            "_view_module_version": "1.2.0",
            "_view_name": "LayoutView",
            "align_content": null,
            "align_items": null,
            "align_self": null,
            "border": null,
            "bottom": null,
            "display": null,
            "flex": null,
            "flex_flow": null,
            "grid_area": null,
            "grid_auto_columns": null,
            "grid_auto_flow": null,
            "grid_auto_rows": null,
            "grid_column": null,
            "grid_gap": null,
            "grid_row": null,
            "grid_template_areas": null,
            "grid_template_columns": null,
            "grid_template_rows": null,
            "height": null,
            "justify_content": null,
            "justify_items": null,
            "left": null,
            "margin": null,
            "max_height": null,
            "max_width": null,
            "min_height": null,
            "min_width": null,
            "object_fit": null,
            "object_position": null,
            "order": null,
            "overflow": null,
            "overflow_x": null,
            "overflow_y": null,
            "padding": null,
            "right": null,
            "top": null,
            "visibility": null,
            "width": null
          }
        },
        "02a73271d1f14cc1b1708d9f8113c483": {
          "model_module": "@jupyter-widgets/controls",
          "model_name": "DescriptionStyleModel",
          "model_module_version": "1.5.0",
          "state": {
            "_model_module": "@jupyter-widgets/controls",
            "_model_module_version": "1.5.0",
            "_model_name": "DescriptionStyleModel",
            "_view_count": null,
            "_view_module": "@jupyter-widgets/base",
            "_view_module_version": "1.2.0",
            "_view_name": "StyleView",
            "description_width": ""
          }
        },
        "574162ebe1b441ad9809358d4b33f8d4": {
          "model_module": "@jupyter-widgets/controls",
          "model_name": "HBoxModel",
          "model_module_version": "1.5.0",
          "state": {
            "_dom_classes": [],
            "_model_module": "@jupyter-widgets/controls",
            "_model_module_version": "1.5.0",
            "_model_name": "HBoxModel",
            "_view_count": null,
            "_view_module": "@jupyter-widgets/controls",
            "_view_module_version": "1.5.0",
            "_view_name": "HBoxView",
            "box_style": "",
            "children": [
              "IPY_MODEL_bcf002a651a94e9a8a922246de904bda",
              "IPY_MODEL_3ea0a56a1d2e48afb68804c6de945e81",
              "IPY_MODEL_920a32c0089347e9a94f9f801ff3bba9"
            ],
            "layout": "IPY_MODEL_aa766e2cf2de49c6bd676b3100149106"
          }
        },
        "bcf002a651a94e9a8a922246de904bda": {
          "model_module": "@jupyter-widgets/controls",
          "model_name": "HTMLModel",
          "model_module_version": "1.5.0",
          "state": {
            "_dom_classes": [],
            "_model_module": "@jupyter-widgets/controls",
            "_model_module_version": "1.5.0",
            "_model_name": "HTMLModel",
            "_view_count": null,
            "_view_module": "@jupyter-widgets/controls",
            "_view_module_version": "1.5.0",
            "_view_name": "HTMLView",
            "description": "",
            "description_tooltip": null,
            "layout": "IPY_MODEL_1cab733b419b4560ad07ff2eccfec4ec",
            "placeholder": "​",
            "style": "IPY_MODEL_5a4374e028d14f0688afa7ccbd8ed1e4",
            "value": "Map: 100%"
          }
        },
        "3ea0a56a1d2e48afb68804c6de945e81": {
          "model_module": "@jupyter-widgets/controls",
          "model_name": "FloatProgressModel",
          "model_module_version": "1.5.0",
          "state": {
            "_dom_classes": [],
            "_model_module": "@jupyter-widgets/controls",
            "_model_module_version": "1.5.0",
            "_model_name": "FloatProgressModel",
            "_view_count": null,
            "_view_module": "@jupyter-widgets/controls",
            "_view_module_version": "1.5.0",
            "_view_name": "ProgressView",
            "bar_style": "success",
            "description": "",
            "description_tooltip": null,
            "layout": "IPY_MODEL_6c0f2a3277974e4bb90525f3dc68d266",
            "max": 17197,
            "min": 0,
            "orientation": "horizontal",
            "style": "IPY_MODEL_bb927036ca694792ac6bdcd5923dbf3a",
            "value": 17197
          }
        },
        "920a32c0089347e9a94f9f801ff3bba9": {
          "model_module": "@jupyter-widgets/controls",
          "model_name": "HTMLModel",
          "model_module_version": "1.5.0",
          "state": {
            "_dom_classes": [],
            "_model_module": "@jupyter-widgets/controls",
            "_model_module_version": "1.5.0",
            "_model_name": "HTMLModel",
            "_view_count": null,
            "_view_module": "@jupyter-widgets/controls",
            "_view_module_version": "1.5.0",
            "_view_name": "HTMLView",
            "description": "",
            "description_tooltip": null,
            "layout": "IPY_MODEL_135a4f63768f4079bef2e456d0a9ef64",
            "placeholder": "​",
            "style": "IPY_MODEL_d1bd5b37b85c4b1bbd4e0c9d61c8c6c0",
            "value": " 17197/17197 [00:01&lt;00:00, 9563.29 examples/s]"
          }
        },
        "aa766e2cf2de49c6bd676b3100149106": {
          "model_module": "@jupyter-widgets/base",
          "model_name": "LayoutModel",
          "model_module_version": "1.2.0",
          "state": {
            "_model_module": "@jupyter-widgets/base",
            "_model_module_version": "1.2.0",
            "_model_name": "LayoutModel",
            "_view_count": null,
            "_view_module": "@jupyter-widgets/base",
            "_view_module_version": "1.2.0",
            "_view_name": "LayoutView",
            "align_content": null,
            "align_items": null,
            "align_self": null,
            "border": null,
            "bottom": null,
            "display": null,
            "flex": null,
            "flex_flow": null,
            "grid_area": null,
            "grid_auto_columns": null,
            "grid_auto_flow": null,
            "grid_auto_rows": null,
            "grid_column": null,
            "grid_gap": null,
            "grid_row": null,
            "grid_template_areas": null,
            "grid_template_columns": null,
            "grid_template_rows": null,
            "height": null,
            "justify_content": null,
            "justify_items": null,
            "left": null,
            "margin": null,
            "max_height": null,
            "max_width": null,
            "min_height": null,
            "min_width": null,
            "object_fit": null,
            "object_position": null,
            "order": null,
            "overflow": null,
            "overflow_x": null,
            "overflow_y": null,
            "padding": null,
            "right": null,
            "top": null,
            "visibility": null,
            "width": null
          }
        },
        "1cab733b419b4560ad07ff2eccfec4ec": {
          "model_module": "@jupyter-widgets/base",
          "model_name": "LayoutModel",
          "model_module_version": "1.2.0",
          "state": {
            "_model_module": "@jupyter-widgets/base",
            "_model_module_version": "1.2.0",
            "_model_name": "LayoutModel",
            "_view_count": null,
            "_view_module": "@jupyter-widgets/base",
            "_view_module_version": "1.2.0",
            "_view_name": "LayoutView",
            "align_content": null,
            "align_items": null,
            "align_self": null,
            "border": null,
            "bottom": null,
            "display": null,
            "flex": null,
            "flex_flow": null,
            "grid_area": null,
            "grid_auto_columns": null,
            "grid_auto_flow": null,
            "grid_auto_rows": null,
            "grid_column": null,
            "grid_gap": null,
            "grid_row": null,
            "grid_template_areas": null,
            "grid_template_columns": null,
            "grid_template_rows": null,
            "height": null,
            "justify_content": null,
            "justify_items": null,
            "left": null,
            "margin": null,
            "max_height": null,
            "max_width": null,
            "min_height": null,
            "min_width": null,
            "object_fit": null,
            "object_position": null,
            "order": null,
            "overflow": null,
            "overflow_x": null,
            "overflow_y": null,
            "padding": null,
            "right": null,
            "top": null,
            "visibility": null,
            "width": null
          }
        },
        "5a4374e028d14f0688afa7ccbd8ed1e4": {
          "model_module": "@jupyter-widgets/controls",
          "model_name": "DescriptionStyleModel",
          "model_module_version": "1.5.0",
          "state": {
            "_model_module": "@jupyter-widgets/controls",
            "_model_module_version": "1.5.0",
            "_model_name": "DescriptionStyleModel",
            "_view_count": null,
            "_view_module": "@jupyter-widgets/base",
            "_view_module_version": "1.2.0",
            "_view_name": "StyleView",
            "description_width": ""
          }
        },
        "6c0f2a3277974e4bb90525f3dc68d266": {
          "model_module": "@jupyter-widgets/base",
          "model_name": "LayoutModel",
          "model_module_version": "1.2.0",
          "state": {
            "_model_module": "@jupyter-widgets/base",
            "_model_module_version": "1.2.0",
            "_model_name": "LayoutModel",
            "_view_count": null,
            "_view_module": "@jupyter-widgets/base",
            "_view_module_version": "1.2.0",
            "_view_name": "LayoutView",
            "align_content": null,
            "align_items": null,
            "align_self": null,
            "border": null,
            "bottom": null,
            "display": null,
            "flex": null,
            "flex_flow": null,
            "grid_area": null,
            "grid_auto_columns": null,
            "grid_auto_flow": null,
            "grid_auto_rows": null,
            "grid_column": null,
            "grid_gap": null,
            "grid_row": null,
            "grid_template_areas": null,
            "grid_template_columns": null,
            "grid_template_rows": null,
            "height": null,
            "justify_content": null,
            "justify_items": null,
            "left": null,
            "margin": null,
            "max_height": null,
            "max_width": null,
            "min_height": null,
            "min_width": null,
            "object_fit": null,
            "object_position": null,
            "order": null,
            "overflow": null,
            "overflow_x": null,
            "overflow_y": null,
            "padding": null,
            "right": null,
            "top": null,
            "visibility": null,
            "width": null
          }
        },
        "bb927036ca694792ac6bdcd5923dbf3a": {
          "model_module": "@jupyter-widgets/controls",
          "model_name": "ProgressStyleModel",
          "model_module_version": "1.5.0",
          "state": {
            "_model_module": "@jupyter-widgets/controls",
            "_model_module_version": "1.5.0",
            "_model_name": "ProgressStyleModel",
            "_view_count": null,
            "_view_module": "@jupyter-widgets/base",
            "_view_module_version": "1.2.0",
            "_view_name": "StyleView",
            "bar_color": null,
            "description_width": ""
          }
        },
        "135a4f63768f4079bef2e456d0a9ef64": {
          "model_module": "@jupyter-widgets/base",
          "model_name": "LayoutModel",
          "model_module_version": "1.2.0",
          "state": {
            "_model_module": "@jupyter-widgets/base",
            "_model_module_version": "1.2.0",
            "_model_name": "LayoutModel",
            "_view_count": null,
            "_view_module": "@jupyter-widgets/base",
            "_view_module_version": "1.2.0",
            "_view_name": "LayoutView",
            "align_content": null,
            "align_items": null,
            "align_self": null,
            "border": null,
            "bottom": null,
            "display": null,
            "flex": null,
            "flex_flow": null,
            "grid_area": null,
            "grid_auto_columns": null,
            "grid_auto_flow": null,
            "grid_auto_rows": null,
            "grid_column": null,
            "grid_gap": null,
            "grid_row": null,
            "grid_template_areas": null,
            "grid_template_columns": null,
            "grid_template_rows": null,
            "height": null,
            "justify_content": null,
            "justify_items": null,
            "left": null,
            "margin": null,
            "max_height": null,
            "max_width": null,
            "min_height": null,
            "min_width": null,
            "object_fit": null,
            "object_position": null,
            "order": null,
            "overflow": null,
            "overflow_x": null,
            "overflow_y": null,
            "padding": null,
            "right": null,
            "top": null,
            "visibility": null,
            "width": null
          }
        },
        "d1bd5b37b85c4b1bbd4e0c9d61c8c6c0": {
          "model_module": "@jupyter-widgets/controls",
          "model_name": "DescriptionStyleModel",
          "model_module_version": "1.5.0",
          "state": {
            "_model_module": "@jupyter-widgets/controls",
            "_model_module_version": "1.5.0",
            "_model_name": "DescriptionStyleModel",
            "_view_count": null,
            "_view_module": "@jupyter-widgets/base",
            "_view_module_version": "1.2.0",
            "_view_name": "StyleView",
            "description_width": ""
          }
        }
      }
    }
  },
  "nbformat": 4,
  "nbformat_minor": 5
}